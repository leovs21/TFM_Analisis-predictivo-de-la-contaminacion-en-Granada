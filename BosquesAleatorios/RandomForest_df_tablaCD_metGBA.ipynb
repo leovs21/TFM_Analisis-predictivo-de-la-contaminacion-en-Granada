{
 "cells": [
  {
   "cell_type": "code",
   "execution_count": 1,
   "metadata": {},
   "outputs": [],
   "source": [
    "import pandas as pd\n",
    "from sklearn.impute import SimpleImputer #Reemplazo de datos faltantes\n",
    "import numpy as np\n",
    "\n",
    "datos = pd.read_csv('D:/lvs/Master/ProyectoTFM/datos/Post-Procesing/df_tablaCD_metGBA.csv')\n",
    "\n",
    "#Creamos conjuntos de datos\n",
    "X = datos.iloc[:,1:-1].values\n",
    "y = datos.iloc[:,-1].values\n",
    "\n",
    "#Dividir concunto de entrenamiento y de testing\n",
    "from sklearn.model_selection import train_test_split\n",
    "X_train, X_test, y_train, y_test = train_test_split(X, y, test_size = 0.25, random_state = 0)"
   ]
  },
  {
   "cell_type": "code",
   "execution_count": 2,
   "metadata": {},
   "outputs": [],
   "source": [
    "def evaluate(model, test_features, test_labels):\n",
    "    predictions = model.predict(test_features)\n",
    "    errors = abs(predictions - test_labels)\n",
    "    mape = 100 * np.mean(errors / test_labels)\n",
    "    accuracy = 100 - mape\n",
    "    print('Error promedio: ' + str(np.mean(errors)))\n",
    "    print('Precision: ' + str(accuracy))\n",
    "    return accuracy"
   ]
  },
  {
   "cell_type": "code",
   "execution_count": 3,
   "metadata": {},
   "outputs": [],
   "source": [
    "y_test[y_test > 200] = 29.22715703\n",
    "y_train[y_train > 200] = 29.22715703"
   ]
  },
  {
   "cell_type": "code",
   "execution_count": 4,
   "metadata": {},
   "outputs": [
    {
     "name": "stdout",
     "output_type": "stream",
     "text": [
      "Error promedio: 6.148980240959457\n",
      "Precision: 76.76749107145064\n"
     ]
    }
   ],
   "source": [
    "from sklearn.ensemble import RandomForestRegressor\n",
    "#Error cuadrado medio como criterio de division por defecto\n",
    "regressor = RandomForestRegressor(n_estimators = 1000, random_state = 0) \n",
    "regressor.fit(X_train,y_train)\n",
    "resultado = evaluate(regressor, X_test, y_test)"
   ]
  },
  {
   "cell_type": "code",
   "execution_count": 5,
   "metadata": {},
   "outputs": [
    {
     "name": "stdout",
     "output_type": "stream",
     "text": [
      "Validacion cruzada:\n",
      "Metricas cross_validation [0.54412661 0.4889319  0.59870341 0.43781223 0.49525393]\n",
      "Media de cross_validation 0.5129656148869071\n",
      "Metricas sobre la prediccion\n",
      "R^2: 0.5735981221260801\n",
      "MSE: 75.34057149904405\n",
      "RMSE: 8.679894670964853\n"
     ]
    }
   ],
   "source": [
    "from sklearn.model_selection import cross_val_score\n",
    "from sklearn.model_selection import KFold\n",
    "from sklearn.metrics import r2_score, mean_squared_error\n",
    "from math import sqrt\n",
    "kf = KFold(n_splits=5)\n",
    "\n",
    "y_pred = regressor.predict(X_test)\n",
    "\n",
    "scores = cross_val_score(regressor, X_train, y_train, cv=kf, scoring='r2')\n",
    "print(\"Validacion cruzada:\")\n",
    "print(\"Metricas cross_validation\", scores)\n",
    "print(\"Media de cross_validation\", scores.mean())\n",
    "\n",
    "print('Metricas sobre la prediccion')\n",
    "print('R^2:',r2_score(y_test, y_pred))\n",
    "print('MSE:',mean_squared_error(y_test, y_pred))\n",
    "print('RMSE:',sqrt(mean_squared_error(y_test, y_pred)))"
   ]
  },
  {
   "cell_type": "code",
   "execution_count": 6,
   "metadata": {},
   "outputs": [],
   "source": [
    "from sklearn.model_selection import RandomizedSearchCV\n",
    "\n",
    "n_estimators = [int(x) for x in np.linspace(start = 200, stop = 2000, num = 10)]\n",
    "max_features = ['auto', 'sqrt']\n",
    "max_depth = [int(x) for x in np.linspace(10, 110, num = 11)]\n",
    "max_depth.append(None)\n",
    "min_samples_split = [2, 5, 10]\n",
    "min_samples_leaf = [1, 2, 4]\n",
    "bootstrap = [True, False]\n",
    "\n",
    "random_grid = {'n_estimators': n_estimators,\n",
    "               'max_features': max_features,\n",
    "               'max_depth': max_depth,\n",
    "               'min_samples_split': min_samples_split,\n",
    "               'min_samples_leaf': min_samples_leaf,\n",
    "               'bootstrap': bootstrap}"
   ]
  },
  {
   "cell_type": "code",
   "execution_count": 7,
   "metadata": {},
   "outputs": [
    {
     "name": "stdout",
     "output_type": "stream",
     "text": [
      "Fitting 3 folds for each of 100 candidates, totalling 300 fits\n"
     ]
    },
    {
     "name": "stderr",
     "output_type": "stream",
     "text": [
      "[Parallel(n_jobs=-1)]: Using backend LokyBackend with 4 concurrent workers.\n",
      "[Parallel(n_jobs=-1)]: Done  33 tasks      | elapsed:   57.8s\n",
      "[Parallel(n_jobs=-1)]: Done 154 tasks      | elapsed:  4.0min\n",
      "[Parallel(n_jobs=-1)]: Done 300 out of 300 | elapsed:  7.7min finished\n",
      "C:\\Python\\Anaconda3\\lib\\site-packages\\sklearn\\model_selection\\_search.py:841: DeprecationWarning: The default of the `iid` parameter will change from True to False in version 0.22 and will be removed in 0.24. This will change numeric results when test-set sizes are unequal.\n",
      "  DeprecationWarning)\n"
     ]
    },
    {
     "data": {
      "text/plain": [
       "RandomizedSearchCV(cv=3, error_score='raise-deprecating',\n",
       "          estimator=RandomForestRegressor(bootstrap=True, criterion='mse', max_depth=None,\n",
       "           max_features='auto', max_leaf_nodes=None,\n",
       "           min_impurity_decrease=0.0, min_impurity_split=None,\n",
       "           min_samples_leaf=1, min_samples_split=2,\n",
       "           min_weight_fraction_leaf=0.0, n_estimators='warn', n_jobs=None,\n",
       "           oob_score=False, random_state=None, verbose=0, warm_start=False),\n",
       "          fit_params=None, iid='warn', n_iter=100, n_jobs=-1,\n",
       "          param_distributions={'n_estimators': [200, 400, 600, 800, 1000, 1200, 1400, 1600, 1800, 2000], 'max_features': ['auto', 'sqrt'], 'max_depth': [10, 20, 30, 40, 50, 60, 70, 80, 90, 100, 110, None], 'min_samples_split': [2, 5, 10], 'min_samples_leaf': [1, 2, 4], 'bootstrap': [True, False]},\n",
       "          pre_dispatch='2*n_jobs', random_state=42, refit=True,\n",
       "          return_train_score='warn', scoring=None, verbose=2)"
      ]
     },
     "execution_count": 7,
     "metadata": {},
     "output_type": "execute_result"
    }
   ],
   "source": [
    "rf = RandomForestRegressor()\n",
    "rf_random = RandomizedSearchCV(estimator = rf, param_distributions = random_grid, n_iter = 100, cv = 3, verbose=2, random_state=42, n_jobs = -1)\n",
    "rf_random.fit(X_train,y_train)"
   ]
  },
  {
   "cell_type": "code",
   "execution_count": 8,
   "metadata": {},
   "outputs": [
    {
     "data": {
      "text/plain": [
       "{'n_estimators': 400,\n",
       " 'min_samples_split': 10,\n",
       " 'min_samples_leaf': 4,\n",
       " 'max_features': 'auto',\n",
       " 'max_depth': 70,\n",
       " 'bootstrap': True}"
      ]
     },
     "execution_count": 8,
     "metadata": {},
     "output_type": "execute_result"
    }
   ],
   "source": [
    "rf_random.best_params_"
   ]
  },
  {
   "cell_type": "code",
   "execution_count": 9,
   "metadata": {},
   "outputs": [
    {
     "name": "stdout",
     "output_type": "stream",
     "text": [
      "Error promedio: 5.90994484848129\n",
      "Precision: 77.54065973044143\n"
     ]
    }
   ],
   "source": [
    "regressor_mod = RandomForestRegressor(n_estimators = 400, random_state = 0, min_samples_split = 10, min_samples_leaf= 4, \n",
    "                                     max_features = 'sqrt', max_depth = 70, bootstrap = True) \n",
    "regressor_mod.fit(X_train,y_train)\n",
    "resultado = evaluate(regressor_mod, X_test, y_test)"
   ]
  },
  {
   "cell_type": "code",
   "execution_count": 10,
   "metadata": {},
   "outputs": [
    {
     "name": "stdout",
     "output_type": "stream",
     "text": [
      "Metricas sobre la prediccion Modificada\n",
      "R^2: 0.6070430792715686\n",
      "MSE: 69.43121153640524\n",
      "RMSE: 8.33253932102365\n"
     ]
    }
   ],
   "source": [
    "#resultado = evaluate(regressor_mod, X_test, y_test)\n",
    "y_pred_opt = regressor_mod.predict(X_test)\n",
    "#score2 = regressor_mod.score(X_train,y_train)\n",
    "#print(\"Metrica del modelo\", score2)\n",
    "#print ('Estadístico R_2: ' + str(r2_score(y_test, y_pred_opt)))\n",
    "print('Metricas sobre la prediccion Modificada')\n",
    "print('R^2:',r2_score(y_test, y_pred_opt))\n",
    "print('MSE:',mean_squared_error(y_test, y_pred_opt))\n",
    "print('RMSE:',sqrt(mean_squared_error(y_test, y_pred_opt)))"
   ]
  },
  {
   "cell_type": "code",
   "execution_count": 12,
   "metadata": {},
   "outputs": [
    {
     "data": {
      "image/png": "[encoded data removed]",
      "text/plain": [
       "<Figure size 432x288 with 1 Axes>"
      ]
     },
     "metadata": {
      "needs_background": "light"
     },
     "output_type": "display_data"
    }
   ],
   "source": [
    "from matplotlib import pyplot as plt\n",
    "plt.scatter(y_pred_opt, y_test - y_pred_opt)\n",
    "plt.xlabel('Prediccion')\n",
    "plt.ylabel('Residuo')\n",
    "plt.title('Armilla - Base Aerea de Granada')\n",
    "plt.show()"
   ]
  }
 ],
 "metadata": {
  "kernelspec": {
   "display_name": "Python 3",
   "language": "python",
   "name": "python3"
  },
  "language_info": {
   "codemirror_mode": {
    "name": "ipython",
    "version": 3
   },
   "file_extension": ".py",
   "mimetype": "text/x-python",
   "name": "python",
   "nbconvert_exporter": "python",
   "pygments_lexer": "ipython3",
   "version": "3.6.8"
  }
 },
 "nbformat": 4,
 "nbformat_minor": 2
}
