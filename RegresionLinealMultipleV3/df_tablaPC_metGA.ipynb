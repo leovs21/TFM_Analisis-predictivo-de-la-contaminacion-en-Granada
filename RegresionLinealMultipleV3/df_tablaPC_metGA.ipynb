{
 "cells": [
  {
   "cell_type": "code",
   "execution_count": 1,
   "metadata": {},
   "outputs": [],
   "source": [
    "import pandas as pd\n",
    "from sklearn.impute import SimpleImputer #Reemplazo de datos faltantes\n",
    "import numpy as np\n",
    "\n",
    "datos = pd.read_csv('D:/lvs/Master/ProyectoTFM/datos/Post-Procesing/df_tablaPC_metGA.csv')"
   ]
  },
  {
   "cell_type": "code",
   "execution_count": 2,
   "metadata": {},
   "outputs": [],
   "source": [
    "#Creamos conjuntos de datos\n",
    "X = datos.iloc[:,1:-1].values\n",
    "y = datos.iloc[:,-1].values"
   ]
  },
  {
   "cell_type": "code",
   "execution_count": 3,
   "metadata": {},
   "outputs": [],
   "source": [
    "#Dividir concunto de entrenamiento y de testing\n",
    "from sklearn.model_selection import train_test_split\n",
    "X_train, X_test, y_train, y_test = train_test_split(X, y, test_size = 0.25, random_state = 0)"
   ]
  },
  {
   "cell_type": "code",
   "execution_count": 4,
   "metadata": {},
   "outputs": [
    {
     "data": {
      "text/plain": [
       "LinearRegression(copy_X=True, fit_intercept=True, n_jobs=None,\n",
       "         normalize=False)"
      ]
     },
     "execution_count": 4,
     "metadata": {},
     "output_type": "execute_result"
    }
   ],
   "source": [
    "#Ajustar el modelo de Regresion Lineal multiple\n",
    "from sklearn.linear_model import LinearRegression\n",
    "regression = LinearRegression()\n",
    "regression.fit(X_train,y_train)"
   ]
  },
  {
   "cell_type": "code",
   "execution_count": 5,
   "metadata": {},
   "outputs": [],
   "source": [
    "y_pred = regression.predict(X_test)"
   ]
  },
  {
   "cell_type": "code",
   "execution_count": 6,
   "metadata": {},
   "outputs": [
    {
     "name": "stdout",
     "output_type": "stream",
     "text": [
      "Validacion cruzada:\n",
      "Metricas cross_validation [0.66406753 0.57736388 0.648366   0.51054011 0.61592902]\n",
      "Media de cross_validation 0.6032533082835426\n",
      "Metricas sobre la prediccion\n",
      "R^2: 0.6252990140687367\n",
      "MSE: 52.4815191513847\n",
      "RMSE: 7.24441296112975\n"
     ]
    }
   ],
   "source": [
    "from sklearn.model_selection import cross_val_score\n",
    "from sklearn.model_selection import KFold\n",
    "from sklearn.metrics import r2_score, mean_squared_error\n",
    "from math import sqrt\n",
    "kf = KFold(n_splits=5)\n",
    "\n",
    "scores = cross_val_score(regression, X_train, y_train, cv=kf, scoring='r2')\n",
    "print(\"Validacion cruzada:\")\n",
    "print(\"Metricas cross_validation\", scores)\n",
    "print(\"Media de cross_validation\", scores.mean())\n",
    "\n",
    "print('Metricas sobre la prediccion')\n",
    "print('R^2:',r2_score(y_test, y_pred))\n",
    "print('MSE:',mean_squared_error(y_test, y_pred))\n",
    "print('RMSE:',sqrt(mean_squared_error(y_test, y_pred)))"
   ]
  },
  {
   "cell_type": "code",
   "execution_count": 20,
   "metadata": {},
   "outputs": [
    {
     "data": {
      "image/png": "[encoded data removed]",
      "text/plain": [
       "<Figure size 432x288 with 1 Axes>"
      ]
     },
     "metadata": {
      "needs_background": "light"
     },
     "output_type": "display_data"
    }
   ],
   "source": [
    "from matplotlib import pyplot as plt\n",
    "plt.scatter(y_pred, y_test - y_pred)\n",
    "plt.xlabel('Prediccion')\n",
    "plt.ylabel('Residuo')\n",
    "plt.title('Palacio de los Congresos - Aeropuerto de Granada')\n",
    "plt.show()"
   ]
  },
  {
   "cell_type": "code",
   "execution_count": 8,
   "metadata": {},
   "outputs": [],
   "source": [
    "#Iniciamos la contruccuion optimo del modelo con eliminacion hacia atras"
   ]
  },
  {
   "cell_type": "code",
   "execution_count": 9,
   "metadata": {},
   "outputs": [],
   "source": [
    "#Construccion del modelo optimo con la eliminacion hacia atras\n",
    "import statsmodels.formula.api as sm\n",
    "X = np.append(arr = np.ones((len(X),1)).astype(int), values = X, axis = 1)\n",
    "SL = 0.05"
   ]
  },
  {
   "cell_type": "code",
   "execution_count": 17,
   "metadata": {},
   "outputs": [
    {
     "data": {
      "text/html": [
       "<table class=\"simpletable\">\n",
       "<caption>OLS Regression Results</caption>\n",
       "<tr>\n",
       "  <th>Dep. Variable:</th>            <td>y</td>        <th>  R-squared:         </th> <td>   0.633</td> \n",
       "</tr>\n",
       "<tr>\n",
       "  <th>Model:</th>                   <td>OLS</td>       <th>  Adj. R-squared:    </th> <td>   0.630</td> \n",
       "</tr>\n",
       "<tr>\n",
       "  <th>Method:</th>             <td>Least Squares</td>  <th>  F-statistic:       </th> <td>   262.6</td> \n",
       "</tr>\n",
       "<tr>\n",
       "  <th>Date:</th>             <td>Sat, 06 Jun 2020</td> <th>  Prob (F-statistic):</th> <td>5.27e-227</td>\n",
       "</tr>\n",
       "<tr>\n",
       "  <th>Time:</th>                 <td>17:00:11</td>     <th>  Log-Likelihood:    </th> <td> -3745.3</td> \n",
       "</tr>\n",
       "<tr>\n",
       "  <th>No. Observations:</th>      <td>  1075</td>      <th>  AIC:               </th> <td>   7507.</td> \n",
       "</tr>\n",
       "<tr>\n",
       "  <th>Df Residuals:</th>          <td>  1067</td>      <th>  BIC:               </th> <td>   7546.</td> \n",
       "</tr>\n",
       "<tr>\n",
       "  <th>Df Model:</th>              <td>     7</td>      <th>                     </th>     <td> </td>    \n",
       "</tr>\n",
       "<tr>\n",
       "  <th>Covariance Type:</th>      <td>nonrobust</td>    <th>                     </th>     <td> </td>    \n",
       "</tr>\n",
       "</table>\n",
       "<table class=\"simpletable\">\n",
       "<tr>\n",
       "    <td></td>       <th>coef</th>     <th>std err</th>      <th>t</th>      <th>P>|t|</th>  <th>[0.025</th>    <th>0.975]</th>  \n",
       "</tr>\n",
       "<tr>\n",
       "  <th>const</th> <td>    3.0414</td> <td>    1.244</td> <td>    2.446</td> <td> 0.015</td> <td>    0.601</td> <td>    5.482</td>\n",
       "</tr>\n",
       "<tr>\n",
       "  <th>x1</th>    <td>    0.5718</td> <td>    0.039</td> <td>   14.510</td> <td> 0.000</td> <td>    0.494</td> <td>    0.649</td>\n",
       "</tr>\n",
       "<tr>\n",
       "  <th>x2</th>    <td>    0.1029</td> <td>    0.056</td> <td>    1.833</td> <td> 0.067</td> <td>   -0.007</td> <td>    0.213</td>\n",
       "</tr>\n",
       "<tr>\n",
       "  <th>x3</th>    <td>   -0.0191</td> <td>    0.007</td> <td>   -2.741</td> <td> 0.006</td> <td>   -0.033</td> <td>   -0.005</td>\n",
       "</tr>\n",
       "<tr>\n",
       "  <th>x4</th>    <td>   -0.2432</td> <td>    0.072</td> <td>   -3.388</td> <td> 0.001</td> <td>   -0.384</td> <td>   -0.102</td>\n",
       "</tr>\n",
       "<tr>\n",
       "  <th>x5</th>    <td>    0.9555</td> <td>    0.118</td> <td>    8.103</td> <td> 0.000</td> <td>    0.724</td> <td>    1.187</td>\n",
       "</tr>\n",
       "<tr>\n",
       "  <th>x6</th>    <td>   -0.8079</td> <td>    0.130</td> <td>   -6.231</td> <td> 0.000</td> <td>   -1.062</td> <td>   -0.553</td>\n",
       "</tr>\n",
       "<tr>\n",
       "  <th>x7</th>    <td>   -0.4615</td> <td>    0.207</td> <td>   -2.230</td> <td> 0.026</td> <td>   -0.868</td> <td>   -0.055</td>\n",
       "</tr>\n",
       "</table>\n",
       "<table class=\"simpletable\">\n",
       "<tr>\n",
       "  <th>Omnibus:</th>       <td>205.305</td> <th>  Durbin-Watson:     </th> <td>   1.923</td> \n",
       "</tr>\n",
       "<tr>\n",
       "  <th>Prob(Omnibus):</th> <td> 0.000</td>  <th>  Jarque-Bera (JB):  </th> <td> 793.679</td> \n",
       "</tr>\n",
       "<tr>\n",
       "  <th>Skew:</th>          <td> 0.868</td>  <th>  Prob(JB):          </th> <td>4.52e-173</td>\n",
       "</tr>\n",
       "<tr>\n",
       "  <th>Kurtosis:</th>      <td> 6.835</td>  <th>  Cond. No.          </th> <td>    327.</td> \n",
       "</tr>\n",
       "</table><br/><br/>Warnings:<br/>[1] Standard Errors assume that the covariance matrix of the errors is correctly specified."
      ],
      "text/plain": [
       "<class 'statsmodels.iolib.summary.Summary'>\n",
       "\"\"\"\n",
       "                            OLS Regression Results                            \n",
       "==============================================================================\n",
       "Dep. Variable:                      y   R-squared:                       0.633\n",
       "Model:                            OLS   Adj. R-squared:                  0.630\n",
       "Method:                 Least Squares   F-statistic:                     262.6\n",
       "Date:                Sat, 06 Jun 2020   Prob (F-statistic):          5.27e-227\n",
       "Time:                        17:00:11   Log-Likelihood:                -3745.3\n",
       "No. Observations:                1075   AIC:                             7507.\n",
       "Df Residuals:                    1067   BIC:                             7546.\n",
       "Df Model:                           7                                         \n",
       "Covariance Type:            nonrobust                                         \n",
       "==============================================================================\n",
       "                 coef    std err          t      P>|t|      [0.025      0.975]\n",
       "------------------------------------------------------------------------------\n",
       "const          3.0414      1.244      2.446      0.015       0.601       5.482\n",
       "x1             0.5718      0.039     14.510      0.000       0.494       0.649\n",
       "x2             0.1029      0.056      1.833      0.067      -0.007       0.213\n",
       "x3            -0.0191      0.007     -2.741      0.006      -0.033      -0.005\n",
       "x4            -0.2432      0.072     -3.388      0.001      -0.384      -0.102\n",
       "x5             0.9555      0.118      8.103      0.000       0.724       1.187\n",
       "x6            -0.8079      0.130     -6.231      0.000      -1.062      -0.553\n",
       "x7            -0.4615      0.207     -2.230      0.026      -0.868      -0.055\n",
       "==============================================================================\n",
       "Omnibus:                      205.305   Durbin-Watson:                   1.923\n",
       "Prob(Omnibus):                  0.000   Jarque-Bera (JB):              793.679\n",
       "Skew:                           0.868   Prob(JB):                    4.52e-173\n",
       "Kurtosis:                       6.835   Cond. No.                         327.\n",
       "==============================================================================\n",
       "\n",
       "Warnings:\n",
       "[1] Standard Errors assume that the covariance matrix of the errors is correctly specified.\n",
       "\"\"\""
      ]
     },
     "execution_count": 17,
     "metadata": {},
     "output_type": "execute_result"
    }
   ],
   "source": [
    "#quitamos la \n",
    "X_opt = X[:,[0,1,4,5,6,12,13,14]]\n",
    "regression_OLS = sm.OLS(endog = y, exog = X_opt).fit()\n",
    "regression_OLS.summary()"
   ]
  },
  {
   "cell_type": "code",
   "execution_count": 18,
   "metadata": {},
   "outputs": [
    {
     "name": "stdout",
     "output_type": "stream",
     "text": [
      "Metricas sobre la prediccion Modificada\n",
      "R^2: 0.6336103407450091\n",
      "MSE: 51.31741479481325\n",
      "RMSE: 7.16361743777634\n"
     ]
    }
   ],
   "source": [
    "regression_opt = LinearRegression()\n",
    "regression_opt.fit(X_train[:,[0,3,4,5,11,12,13]],y_train)\n",
    "y_pred_opt = regression_opt.predict(X_test[:,[0,3,4,5,11,12,13]])\n",
    "\n",
    "#resultado_opt = evaluate(regression_opt, X_test[:,[0,3,4,5,11,12,13]], y_test)\n",
    "#score_opt = regression_opt.score(X_train[:,[0,3,4,5,11,12,13]],y_train)\n",
    "print('Metricas sobre la prediccion Modificada')\n",
    "print('R^2:',r2_score(y_test, y_pred_opt))\n",
    "print('MSE:',mean_squared_error(y_test, y_pred_opt))\n",
    "print('RMSE:',sqrt(mean_squared_error(y_test, y_pred_opt)))"
   ]
  },
  {
   "cell_type": "code",
   "execution_count": 19,
   "metadata": {},
   "outputs": [
    {
     "data": {
      "text/plain": [
       "<matplotlib.collections.PathCollection at 0x22b8be794e0>"
      ]
     },
     "execution_count": 19,
     "metadata": {},
     "output_type": "execute_result"
    },
    {
     "data": {
      "image/png": "[encoded data removed]",
      "text/plain": [
       "<Figure size 432x288 with 1 Axes>"
      ]
     },
     "metadata": {
      "needs_background": "light"
     },
     "output_type": "display_data"
    }
   ],
   "source": [
    "from matplotlib import pyplot as plt\n",
    "y_pred = regression.predict(X_test)\n",
    "plt.scatter(y_test, y_pred)"
   ]
  }
 ],
 "metadata": {
  "kernelspec": {
   "display_name": "Python 3",
   "language": "python",
   "name": "python3"
  },
  "language_info": {
   "codemirror_mode": {
    "name": "ipython",
    "version": 3
   },
   "file_extension": ".py",
   "mimetype": "text/x-python",
   "name": "python",
   "nbconvert_exporter": "python",
   "pygments_lexer": "ipython3",
   "version": "3.6.8"
  }
 },
 "nbformat": 4,
 "nbformat_minor": 2
}
