{
 "cells": [
  {
   "cell_type": "code",
   "execution_count": 1,
   "metadata": {},
   "outputs": [],
   "source": [
    "import pandas as pd\n",
    "from sklearn.impute import SimpleImputer #Reemplazo de datos faltantes\n",
    "import numpy as np\n",
    "\n",
    "datos = pd.read_csv('D:/lvs/Master/ProyectoTFM/datos/Post-Procesing/df_tablaCD_metGBA.csv')"
   ]
  },
  {
   "cell_type": "code",
   "execution_count": 2,
   "metadata": {},
   "outputs": [],
   "source": [
    "#Creamos conjuntos de datos\n",
    "X = datos.iloc[:,1:-1].values\n",
    "y = datos.iloc[:,-1].values"
   ]
  },
  {
   "cell_type": "code",
   "execution_count": 3,
   "metadata": {},
   "outputs": [],
   "source": [
    "#Dividir concunto de entrenamiento y de testing\n",
    "from sklearn.model_selection import train_test_split\n",
    "X_train, X_test, y_train, y_test = train_test_split(X, y, test_size = 0.25, random_state = 0)"
   ]
  },
  {
   "cell_type": "code",
   "execution_count": 4,
   "metadata": {},
   "outputs": [
    {
     "data": {
      "text/plain": [
       "LinearRegression(copy_X=True, fit_intercept=True, n_jobs=None,\n",
       "         normalize=False)"
      ]
     },
     "execution_count": 4,
     "metadata": {},
     "output_type": "execute_result"
    }
   ],
   "source": [
    "#Ajustar el modelo de Regresion Lineal multiple\n",
    "from sklearn.linear_model import LinearRegression\n",
    "regression = LinearRegression()\n",
    "regression.fit(X_train,y_train)"
   ]
  },
  {
   "cell_type": "code",
   "execution_count": 6,
   "metadata": {},
   "outputs": [],
   "source": [
    "y_pred = regression.predict(X_test)"
   ]
  },
  {
   "cell_type": "code",
   "execution_count": 7,
   "metadata": {},
   "outputs": [
    {
     "name": "stdout",
     "output_type": "stream",
     "text": [
      "Validacion cruzada:\n",
      "Metricas cross_validation [0.59913695 0.49560889 0.63118437 0.42851571 0.44996296]\n",
      "Media de cross_validation 0.5208817754886623\n",
      "Metricas sobre la prediccion\n",
      "R^2: 0.5853639668502966\n",
      "MSE: 73.2616747781586\n",
      "RMSE: 8.559303404959927\n"
     ]
    }
   ],
   "source": [
    "from sklearn.model_selection import cross_val_score\n",
    "from sklearn.model_selection import KFold\n",
    "from sklearn.metrics import r2_score, mean_squared_error\n",
    "from math import sqrt\n",
    "kf = KFold(n_splits=5)\n",
    "\n",
    "scores = cross_val_score(regression, X_train, y_train, cv=kf, scoring='r2')\n",
    "print(\"Validacion cruzada:\")\n",
    "print(\"Metricas cross_validation\", scores)\n",
    "print(\"Media de cross_validation\", scores.mean())\n",
    "\n",
    "print('Metricas sobre la prediccion')\n",
    "print('R^2:',r2_score(y_test, y_pred))\n",
    "print('MSE:',mean_squared_error(y_test, y_pred))\n",
    "print('RMSE:',sqrt(mean_squared_error(y_test, y_pred)))"
   ]
  },
  {
   "cell_type": "code",
   "execution_count": 19,
   "metadata": {},
   "outputs": [
    {
     "data": {
      "image/png": "[encoded data removed]",
      "text/plain": [
       "<Figure size 432x288 with 1 Axes>"
      ]
     },
     "metadata": {
      "needs_background": "light"
     },
     "output_type": "display_data"
    }
   ],
   "source": [
    "from matplotlib import pyplot as plt\n",
    "plt.scatter(y_pred, y_test - y_pred)\n",
    "plt.xlabel('Prediccion')\n",
    "plt.ylabel('Residuo')\n",
    "plt.title('Armilla - Base Aerea de Granada')\n",
    "plt.show()"
   ]
  },
  {
   "cell_type": "code",
   "execution_count": 9,
   "metadata": {},
   "outputs": [],
   "source": [
    "#Iniciamos la contruccuion optimo del modelo con eliminacion hacia atras"
   ]
  },
  {
   "cell_type": "code",
   "execution_count": 10,
   "metadata": {},
   "outputs": [],
   "source": [
    "#Construccion del modelo optimo con la eliminacion hacia atras\n",
    "import statsmodels.formula.api as sm\n",
    "X = np.append(arr = np.ones((len(X),1)).astype(int), values = X, axis = 1)\n",
    "SL = 0.05"
   ]
  },
  {
   "cell_type": "code",
   "execution_count": 16,
   "metadata": {},
   "outputs": [
    {
     "data": {
      "text/html": [
       "<table class=\"simpletable\">\n",
       "<caption>OLS Regression Results</caption>\n",
       "<tr>\n",
       "  <th>Dep. Variable:</th>            <td>y</td>        <th>  R-squared:         </th> <td>   0.548</td> \n",
       "</tr>\n",
       "<tr>\n",
       "  <th>Model:</th>                   <td>OLS</td>       <th>  Adj. R-squared:    </th> <td>   0.546</td> \n",
       "</tr>\n",
       "<tr>\n",
       "  <th>Method:</th>             <td>Least Squares</td>  <th>  F-statistic:       </th> <td>   216.1</td> \n",
       "</tr>\n",
       "<tr>\n",
       "  <th>Date:</th>             <td>Sat, 06 Jun 2020</td> <th>  Prob (F-statistic):</th> <td>1.97e-180</td>\n",
       "</tr>\n",
       "<tr>\n",
       "  <th>Time:</th>                 <td>17:19:54</td>     <th>  Log-Likelihood:    </th> <td> -3910.0</td> \n",
       "</tr>\n",
       "<tr>\n",
       "  <th>No. Observations:</th>      <td>  1075</td>      <th>  AIC:               </th> <td>   7834.</td> \n",
       "</tr>\n",
       "<tr>\n",
       "  <th>Df Residuals:</th>          <td>  1068</td>      <th>  BIC:               </th> <td>   7869.</td> \n",
       "</tr>\n",
       "<tr>\n",
       "  <th>Df Model:</th>              <td>     6</td>      <th>                     </th>     <td> </td>    \n",
       "</tr>\n",
       "<tr>\n",
       "  <th>Covariance Type:</th>      <td>nonrobust</td>    <th>                     </th>     <td> </td>    \n",
       "</tr>\n",
       "</table>\n",
       "<table class=\"simpletable\">\n",
       "<tr>\n",
       "    <td></td>       <th>coef</th>     <th>std err</th>      <th>t</th>      <th>P>|t|</th>  <th>[0.025</th>    <th>0.975]</th>  \n",
       "</tr>\n",
       "<tr>\n",
       "  <th>const</th> <td> -370.6315</td> <td>   53.610</td> <td>   -6.913</td> <td> 0.000</td> <td> -475.825</td> <td> -265.438</td>\n",
       "</tr>\n",
       "<tr>\n",
       "  <th>x1</th>    <td>    0.9028</td> <td>    0.100</td> <td>    9.020</td> <td> 0.000</td> <td>    0.706</td> <td>    1.099</td>\n",
       "</tr>\n",
       "<tr>\n",
       "  <th>x2</th>    <td>   -0.3337</td> <td>    0.109</td> <td>   -3.074</td> <td> 0.002</td> <td>   -0.547</td> <td>   -0.121</td>\n",
       "</tr>\n",
       "<tr>\n",
       "  <th>x3</th>    <td>    0.0440</td> <td>    0.050</td> <td>    0.882</td> <td> 0.378</td> <td>   -0.054</td> <td>    0.142</td>\n",
       "</tr>\n",
       "<tr>\n",
       "  <th>x4</th>    <td>   -0.0541</td> <td>    0.055</td> <td>   -0.981</td> <td> 0.327</td> <td>   -0.162</td> <td>    0.054</td>\n",
       "</tr>\n",
       "<tr>\n",
       "  <th>x5</th>    <td>    0.4050</td> <td>    0.057</td> <td>    7.064</td> <td> 0.000</td> <td>    0.293</td> <td>    0.517</td>\n",
       "</tr>\n",
       "<tr>\n",
       "  <th>x6</th>    <td>    0.2052</td> <td>    0.037</td> <td>    5.534</td> <td> 0.000</td> <td>    0.132</td> <td>    0.278</td>\n",
       "</tr>\n",
       "</table>\n",
       "<table class=\"simpletable\">\n",
       "<tr>\n",
       "  <th>Omnibus:</th>       <td>271.067</td> <th>  Durbin-Watson:     </th> <td>   1.842</td>\n",
       "</tr>\n",
       "<tr>\n",
       "  <th>Prob(Omnibus):</th> <td> 0.000</td>  <th>  Jarque-Bera (JB):  </th> <td>1475.284</td>\n",
       "</tr>\n",
       "<tr>\n",
       "  <th>Skew:</th>          <td> 1.048</td>  <th>  Prob(JB):          </th> <td>    0.00</td>\n",
       "</tr>\n",
       "<tr>\n",
       "  <th>Kurtosis:</th>      <td> 8.343</td>  <th>  Cond. No.          </th> <td>1.79e+05</td>\n",
       "</tr>\n",
       "</table><br/><br/>Warnings:<br/>[1] Standard Errors assume that the covariance matrix of the errors is correctly specified.<br/>[2] The condition number is large, 1.79e+05. This might indicate that there are<br/>strong multicollinearity or other numerical problems."
      ],
      "text/plain": [
       "<class 'statsmodels.iolib.summary.Summary'>\n",
       "\"\"\"\n",
       "                            OLS Regression Results                            \n",
       "==============================================================================\n",
       "Dep. Variable:                      y   R-squared:                       0.548\n",
       "Model:                            OLS   Adj. R-squared:                  0.546\n",
       "Method:                 Least Squares   F-statistic:                     216.1\n",
       "Date:                Sat, 06 Jun 2020   Prob (F-statistic):          1.97e-180\n",
       "Time:                        17:19:54   Log-Likelihood:                -3910.0\n",
       "No. Observations:                1075   AIC:                             7834.\n",
       "Df Residuals:                    1068   BIC:                             7869.\n",
       "Df Model:                           6                                         \n",
       "Covariance Type:            nonrobust                                         \n",
       "==============================================================================\n",
       "                 coef    std err          t      P>|t|      [0.025      0.975]\n",
       "------------------------------------------------------------------------------\n",
       "const       -370.6315     53.610     -6.913      0.000    -475.825    -265.438\n",
       "x1             0.9028      0.100      9.020      0.000       0.706       1.099\n",
       "x2            -0.3337      0.109     -3.074      0.002      -0.547      -0.121\n",
       "x3             0.0440      0.050      0.882      0.378      -0.054       0.142\n",
       "x4            -0.0541      0.055     -0.981      0.327      -0.162       0.054\n",
       "x5             0.4050      0.057      7.064      0.000       0.293       0.517\n",
       "x6             0.2052      0.037      5.534      0.000       0.132       0.278\n",
       "==============================================================================\n",
       "Omnibus:                      271.067   Durbin-Watson:                   1.842\n",
       "Prob(Omnibus):                  0.000   Jarque-Bera (JB):             1475.284\n",
       "Skew:                           1.048   Prob(JB):                         0.00\n",
       "Kurtosis:                       8.343   Cond. No.                     1.79e+05\n",
       "==============================================================================\n",
       "\n",
       "Warnings:\n",
       "[1] Standard Errors assume that the covariance matrix of the errors is correctly specified.\n",
       "[2] The condition number is large, 1.79e+05. This might indicate that there are\n",
       "strong multicollinearity or other numerical problems.\n",
       "\"\"\""
      ]
     },
     "execution_count": 16,
     "metadata": {},
     "output_type": "execute_result"
    }
   ],
   "source": [
    "#quitamos la racha\n",
    "X_opt = X[:,[0,1,2,4,5,8,11]]\n",
    "regression_OLS = sm.OLS(endog = y, exog = X_opt).fit()\n",
    "regression_OLS.summary()"
   ]
  },
  {
   "cell_type": "code",
   "execution_count": 17,
   "metadata": {},
   "outputs": [
    {
     "name": "stdout",
     "output_type": "stream",
     "text": [
      "Metricas sobre la prediccion Modificada\n",
      "R^2: 0.5747919137234376\n",
      "MSE: 75.12964151523599\n",
      "RMSE: 8.667735662515094\n"
     ]
    }
   ],
   "source": [
    "regression_opt = LinearRegression()\n",
    "regression_opt.fit(X_train[:,[0,1,2,4,5,8,11]],y_train)\n",
    "y_pred_opt = regression_opt.predict(X_test[:,[0,1,2,4,5,8,11]])\n",
    "\n",
    "#resultado_opt = evaluate(regression_opt, X_test[:,[0,1,2,4,5,8,11]], y_test)\n",
    "#score_opt = regression_opt.score(X_train[:,[0,1,2,4,5,8,11]],y_train)\n",
    "print('Metricas sobre la prediccion Modificada')\n",
    "print('R^2:',r2_score(y_test, y_pred_opt))\n",
    "print('MSE:',mean_squared_error(y_test, y_pred_opt))\n",
    "print('RMSE:',sqrt(mean_squared_error(y_test, y_pred_opt)))"
   ]
  },
  {
   "cell_type": "code",
   "execution_count": 18,
   "metadata": {},
   "outputs": [
    {
     "data": {
      "text/plain": [
       "<matplotlib.collections.PathCollection at 0x143928026d8>"
      ]
     },
     "execution_count": 18,
     "metadata": {},
     "output_type": "execute_result"
    },
    {
     "data": {
      "image/png": "[encoded data removed]",
      "text/plain": [
       "<Figure size 432x288 with 1 Axes>"
      ]
     },
     "metadata": {
      "needs_background": "light"
     },
     "output_type": "display_data"
    }
   ],
   "source": [
    "from matplotlib import pyplot as plt\n",
    "y_pred = regression.predict(X_test)\n",
    "plt.scatter(y_test, y_pred)"
   ]
  }
 ],
 "metadata": {
  "kernelspec": {
   "display_name": "Python 3",
   "language": "python",
   "name": "python3"
  },
  "language_info": {
   "codemirror_mode": {
    "name": "ipython",
    "version": 3
   },
   "file_extension": ".py",
   "mimetype": "text/x-python",
   "name": "python",
   "nbconvert_exporter": "python",
   "pygments_lexer": "ipython3",
   "version": "3.6.8"
  }
 },
 "nbformat": 4,
 "nbformat_minor": 2
}
