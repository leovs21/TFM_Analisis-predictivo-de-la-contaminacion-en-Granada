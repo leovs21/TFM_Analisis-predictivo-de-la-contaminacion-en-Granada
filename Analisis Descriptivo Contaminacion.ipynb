{
 "cells": [
  {
   "cell_type": "code",
   "execution_count": 44,
   "metadata": {},
   "outputs": [],
   "source": [
    "#Importacion de librerias y creacion inicial de los dataframe por cada estacion de medicion\n",
    "import pandas as pd\n",
    "from sklearn.impute import SimpleImputer #Reemplazo de datos faltantes\n",
    "import numpy as np\n",
    "import matplotlib.pyplot as plt\n",
    "\n",
    "df_tablaGN = pd.DataFrame()\n",
    "df_tablaPC = pd.DataFrame()\n",
    "df_tablaCD = pd.DataFrame()"
   ]
  },
  {
   "cell_type": "code",
   "execution_count": 45,
   "metadata": {},
   "outputs": [],
   "source": [
    "#Lectura y agrupamiento de ficheros con la informacion de las distintas estaciones de medicion de la contaminacion en \n",
    "# los distintos años\n",
    "for anio in range(17,20) :\n",
    "    df_GN = pd.read_csv('D:/lvs/Master/ProyectoTFM/datos/contaminacion_GN_20'+str(anio)+'01-12.csv')\n",
    "    df_tablaGN = pd.concat([df_tablaGN, df_GN]) \n",
    "    \n",
    "    df_PC = pd.read_csv('D:/lvs/Master/ProyectoTFM/datos/contaminacion_PC_20'+str(anio)+'01-12.csv')\n",
    "    df_tablaPC = pd.concat([df_tablaPC, df_PC])\n",
    "    \n",
    "    df_CD = pd.read_csv('D:/lvs/Master/ProyectoTFM/datos/contaminacion_CD_20'+str(anio)+'01-12.csv')\n",
    "    df_tablaCD = pd.concat([df_tablaCD, df_CD])"
   ]
  },
  {
   "cell_type": "code",
   "execution_count": 3,
   "metadata": {},
   "outputs": [],
   "source": [
    "## Descripcion de los datos por estacion de medicion."
   ]
  },
  {
   "cell_type": "code",
   "execution_count": 39,
   "metadata": {},
   "outputs": [
    {
     "data": {
      "text/html": [
       "<div>\n",
       "<style scoped>\n",
       "    .dataframe tbody tr th:only-of-type {\n",
       "        vertical-align: middle;\n",
       "    }\n",
       "\n",
       "    .dataframe tbody tr th {\n",
       "        vertical-align: top;\n",
       "    }\n",
       "\n",
       "    .dataframe thead th {\n",
       "        text-align: right;\n",
       "    }\n",
       "</style>\n",
       "<table border=\"1\" class=\"dataframe\">\n",
       "  <thead>\n",
       "    <tr style=\"text-align: right;\">\n",
       "      <th></th>\n",
       "      <th>NO2_Min</th>\n",
       "      <th>CO_Media</th>\n",
       "      <th>CO_Mediana</th>\n",
       "      <th>CO_Max</th>\n",
       "      <th>CO_Min</th>\n",
       "      <th>O3_Media</th>\n",
       "      <th>O3_Mediana</th>\n",
       "      <th>O3_Max</th>\n",
       "      <th>O3_Min</th>\n",
       "    </tr>\n",
       "  </thead>\n",
       "  <tbody>\n",
       "    <tr>\n",
       "      <th>count</th>\n",
       "      <td>1043.000000</td>\n",
       "      <td>1026.000000</td>\n",
       "      <td>1026.000000</td>\n",
       "      <td>1026.000000</td>\n",
       "      <td>1026.000000</td>\n",
       "      <td>0.0</td>\n",
       "      <td>0.0</td>\n",
       "      <td>0.0</td>\n",
       "      <td>0.0</td>\n",
       "    </tr>\n",
       "    <tr>\n",
       "      <th>mean</th>\n",
       "      <td>14.318313</td>\n",
       "      <td>668.688730</td>\n",
       "      <td>627.271930</td>\n",
       "      <td>1287.349903</td>\n",
       "      <td>447.709552</td>\n",
       "      <td>NaN</td>\n",
       "      <td>NaN</td>\n",
       "      <td>NaN</td>\n",
       "      <td>NaN</td>\n",
       "    </tr>\n",
       "    <tr>\n",
       "      <th>std</th>\n",
       "      <td>9.888550</td>\n",
       "      <td>2670.548558</td>\n",
       "      <td>2751.052415</td>\n",
       "      <td>3170.880946</td>\n",
       "      <td>2314.064388</td>\n",
       "      <td>NaN</td>\n",
       "      <td>NaN</td>\n",
       "      <td>NaN</td>\n",
       "      <td>NaN</td>\n",
       "    </tr>\n",
       "    <tr>\n",
       "      <th>min</th>\n",
       "      <td>0.000000</td>\n",
       "      <td>181.055556</td>\n",
       "      <td>156.000000</td>\n",
       "      <td>347.000000</td>\n",
       "      <td>100.000000</td>\n",
       "      <td>NaN</td>\n",
       "      <td>NaN</td>\n",
       "      <td>NaN</td>\n",
       "      <td>NaN</td>\n",
       "    </tr>\n",
       "    <tr>\n",
       "      <th>25%</th>\n",
       "      <td>8.000000</td>\n",
       "      <td>404.936007</td>\n",
       "      <td>381.000000</td>\n",
       "      <td>742.250000</td>\n",
       "      <td>241.000000</td>\n",
       "      <td>NaN</td>\n",
       "      <td>NaN</td>\n",
       "      <td>NaN</td>\n",
       "      <td>NaN</td>\n",
       "    </tr>\n",
       "    <tr>\n",
       "      <th>50%</th>\n",
       "      <td>12.000000</td>\n",
       "      <td>519.788194</td>\n",
       "      <td>480.250000</td>\n",
       "      <td>978.000000</td>\n",
       "      <td>332.000000</td>\n",
       "      <td>NaN</td>\n",
       "      <td>NaN</td>\n",
       "      <td>NaN</td>\n",
       "      <td>NaN</td>\n",
       "    </tr>\n",
       "    <tr>\n",
       "      <th>75%</th>\n",
       "      <td>18.000000</td>\n",
       "      <td>710.081597</td>\n",
       "      <td>658.375000</td>\n",
       "      <td>1396.500000</td>\n",
       "      <td>455.000000</td>\n",
       "      <td>NaN</td>\n",
       "      <td>NaN</td>\n",
       "      <td>NaN</td>\n",
       "      <td>NaN</td>\n",
       "    </tr>\n",
       "    <tr>\n",
       "      <th>max</th>\n",
       "      <td>71.000000</td>\n",
       "      <td>85682.857143</td>\n",
       "      <td>88312.000000</td>\n",
       "      <td>99150.000000</td>\n",
       "      <td>74173.000000</td>\n",
       "      <td>NaN</td>\n",
       "      <td>NaN</td>\n",
       "      <td>NaN</td>\n",
       "      <td>NaN</td>\n",
       "    </tr>\n",
       "  </tbody>\n",
       "</table>\n",
       "</div>"
      ],
      "text/plain": [
       "           NO2_Min      CO_Media    CO_Mediana        CO_Max        CO_Min  \\\n",
       "count  1043.000000   1026.000000   1026.000000   1026.000000   1026.000000   \n",
       "mean     14.318313    668.688730    627.271930   1287.349903    447.709552   \n",
       "std       9.888550   2670.548558   2751.052415   3170.880946   2314.064388   \n",
       "min       0.000000    181.055556    156.000000    347.000000    100.000000   \n",
       "25%       8.000000    404.936007    381.000000    742.250000    241.000000   \n",
       "50%      12.000000    519.788194    480.250000    978.000000    332.000000   \n",
       "75%      18.000000    710.081597    658.375000   1396.500000    455.000000   \n",
       "max      71.000000  85682.857143  88312.000000  99150.000000  74173.000000   \n",
       "\n",
       "       O3_Media  O3_Mediana  O3_Max  O3_Min  \n",
       "count       0.0         0.0     0.0     0.0  \n",
       "mean        NaN         NaN     NaN     NaN  \n",
       "std         NaN         NaN     NaN     NaN  \n",
       "min         NaN         NaN     NaN     NaN  \n",
       "25%         NaN         NaN     NaN     NaN  \n",
       "50%         NaN         NaN     NaN     NaN  \n",
       "75%         NaN         NaN     NaN     NaN  \n",
       "max         NaN         NaN     NaN     NaN  "
      ]
     },
     "execution_count": 39,
     "metadata": {},
     "output_type": "execute_result"
    }
   ],
   "source": [
    "#df_tablaGN[['SO2_Media','SO2_Mediana','SO2_Max','SO2_Min','PART_Media','PART_Mediana','PART_Max','PART_Min','NO2_Media', 'NO2_Mediana', 'NO2_Max']].describe()\n",
    "df_tablaGN[['NO2_Min', 'CO_Media', 'CO_Mediana', 'CO_Max', 'CO_Min', 'O3_Media', 'O3_Mediana', 'O3_Max', 'O3_Min']].describe()"
   ]
  },
  {
   "cell_type": "code",
   "execution_count": 47,
   "metadata": {},
   "outputs": [
    {
     "data": {
      "text/html": [
       "<div>\n",
       "<style scoped>\n",
       "    .dataframe tbody tr th:only-of-type {\n",
       "        vertical-align: middle;\n",
       "    }\n",
       "\n",
       "    .dataframe tbody tr th {\n",
       "        vertical-align: top;\n",
       "    }\n",
       "\n",
       "    .dataframe thead th {\n",
       "        text-align: right;\n",
       "    }\n",
       "</style>\n",
       "<table border=\"1\" class=\"dataframe\">\n",
       "  <thead>\n",
       "    <tr style=\"text-align: right;\">\n",
       "      <th></th>\n",
       "      <th>NO2_Min</th>\n",
       "      <th>CO_Media</th>\n",
       "      <th>CO_Mediana</th>\n",
       "      <th>CO_Max</th>\n",
       "      <th>CO_Min</th>\n",
       "      <th>O3_Media</th>\n",
       "      <th>O3_Mediana</th>\n",
       "      <th>O3_Max</th>\n",
       "      <th>O3_Min</th>\n",
       "    </tr>\n",
       "  </thead>\n",
       "  <tbody>\n",
       "    <tr>\n",
       "      <th>count</th>\n",
       "      <td>973.000000</td>\n",
       "      <td>917.000000</td>\n",
       "      <td>917.000000</td>\n",
       "      <td>917.000000</td>\n",
       "      <td>917.000000</td>\n",
       "      <td>1017.000000</td>\n",
       "      <td>1017.000000</td>\n",
       "      <td>1017.000000</td>\n",
       "      <td>1017.000000</td>\n",
       "    </tr>\n",
       "    <tr>\n",
       "      <th>mean</th>\n",
       "      <td>9.229188</td>\n",
       "      <td>280.395118</td>\n",
       "      <td>257.432388</td>\n",
       "      <td>628.202835</td>\n",
       "      <td>171.789531</td>\n",
       "      <td>53.667062</td>\n",
       "      <td>52.152409</td>\n",
       "      <td>95.572271</td>\n",
       "      <td>11.526057</td>\n",
       "    </tr>\n",
       "    <tr>\n",
       "      <th>std</th>\n",
       "      <td>20.415436</td>\n",
       "      <td>1173.520492</td>\n",
       "      <td>1173.576045</td>\n",
       "      <td>1238.372940</td>\n",
       "      <td>1169.473957</td>\n",
       "      <td>22.243077</td>\n",
       "      <td>23.410564</td>\n",
       "      <td>27.565151</td>\n",
       "      <td>12.086042</td>\n",
       "    </tr>\n",
       "    <tr>\n",
       "      <th>min</th>\n",
       "      <td>0.000000</td>\n",
       "      <td>1.222222</td>\n",
       "      <td>0.000000</td>\n",
       "      <td>20.000000</td>\n",
       "      <td>0.000000</td>\n",
       "      <td>0.000000</td>\n",
       "      <td>0.000000</td>\n",
       "      <td>0.000000</td>\n",
       "      <td>0.000000</td>\n",
       "    </tr>\n",
       "    <tr>\n",
       "      <th>25%</th>\n",
       "      <td>5.000000</td>\n",
       "      <td>155.701389</td>\n",
       "      <td>135.500000</td>\n",
       "      <td>322.000000</td>\n",
       "      <td>94.000000</td>\n",
       "      <td>35.611111</td>\n",
       "      <td>34.000000</td>\n",
       "      <td>75.000000</td>\n",
       "      <td>2.000000</td>\n",
       "    </tr>\n",
       "    <tr>\n",
       "      <th>50%</th>\n",
       "      <td>7.000000</td>\n",
       "      <td>208.416667</td>\n",
       "      <td>198.500000</td>\n",
       "      <td>467.000000</td>\n",
       "      <td>117.000000</td>\n",
       "      <td>57.380000</td>\n",
       "      <td>57.000000</td>\n",
       "      <td>96.000000</td>\n",
       "      <td>7.000000</td>\n",
       "    </tr>\n",
       "    <tr>\n",
       "      <th>75%</th>\n",
       "      <td>10.000000</td>\n",
       "      <td>280.409722</td>\n",
       "      <td>239.500000</td>\n",
       "      <td>668.000000</td>\n",
       "      <td>132.000000</td>\n",
       "      <td>72.180556</td>\n",
       "      <td>71.000000</td>\n",
       "      <td>116.000000</td>\n",
       "      <td>18.000000</td>\n",
       "    </tr>\n",
       "    <tr>\n",
       "      <th>max</th>\n",
       "      <td>500.000000</td>\n",
       "      <td>32061.000000</td>\n",
       "      <td>32061.000000</td>\n",
       "      <td>32061.000000</td>\n",
       "      <td>32061.000000</td>\n",
       "      <td>106.062500</td>\n",
       "      <td>112.500000</td>\n",
       "      <td>175.000000</td>\n",
       "      <td>71.000000</td>\n",
       "    </tr>\n",
       "  </tbody>\n",
       "</table>\n",
       "</div>"
      ],
      "text/plain": [
       "          NO2_Min      CO_Media    CO_Mediana        CO_Max        CO_Min  \\\n",
       "count  973.000000    917.000000    917.000000    917.000000    917.000000   \n",
       "mean     9.229188    280.395118    257.432388    628.202835    171.789531   \n",
       "std     20.415436   1173.520492   1173.576045   1238.372940   1169.473957   \n",
       "min      0.000000      1.222222      0.000000     20.000000      0.000000   \n",
       "25%      5.000000    155.701389    135.500000    322.000000     94.000000   \n",
       "50%      7.000000    208.416667    198.500000    467.000000    117.000000   \n",
       "75%     10.000000    280.409722    239.500000    668.000000    132.000000   \n",
       "max    500.000000  32061.000000  32061.000000  32061.000000  32061.000000   \n",
       "\n",
       "          O3_Media   O3_Mediana       O3_Max       O3_Min  \n",
       "count  1017.000000  1017.000000  1017.000000  1017.000000  \n",
       "mean     53.667062    52.152409    95.572271    11.526057  \n",
       "std      22.243077    23.410564    27.565151    12.086042  \n",
       "min       0.000000     0.000000     0.000000     0.000000  \n",
       "25%      35.611111    34.000000    75.000000     2.000000  \n",
       "50%      57.380000    57.000000    96.000000     7.000000  \n",
       "75%      72.180556    71.000000   116.000000    18.000000  \n",
       "max     106.062500   112.500000   175.000000    71.000000  "
      ]
     },
     "execution_count": 47,
     "metadata": {},
     "output_type": "execute_result"
    }
   ],
   "source": [
    "#df_tablaPC[['SO2_Media','SO2_Mediana','SO2_Max','SO2_Min','PART_Media','PART_Mediana','PART_Max','PART_Min','NO2_Media', 'NO2_Mediana', 'NO2_Max']].describe()\n",
    "df_tablaPC[['NO2_Min', 'CO_Media', 'CO_Mediana', 'CO_Max', 'CO_Min', 'O3_Media', 'O3_Mediana', 'O3_Max', 'O3_Min']].describe()"
   ]
  },
  {
   "cell_type": "code",
   "execution_count": 49,
   "metadata": {},
   "outputs": [
    {
     "data": {
      "text/html": [
       "<div>\n",
       "<style scoped>\n",
       "    .dataframe tbody tr th:only-of-type {\n",
       "        vertical-align: middle;\n",
       "    }\n",
       "\n",
       "    .dataframe tbody tr th {\n",
       "        vertical-align: top;\n",
       "    }\n",
       "\n",
       "    .dataframe thead th {\n",
       "        text-align: right;\n",
       "    }\n",
       "</style>\n",
       "<table border=\"1\" class=\"dataframe\">\n",
       "  <thead>\n",
       "    <tr style=\"text-align: right;\">\n",
       "      <th></th>\n",
       "      <th>NO2_Min</th>\n",
       "      <th>CO_Media</th>\n",
       "      <th>CO_Mediana</th>\n",
       "      <th>CO_Max</th>\n",
       "      <th>CO_Min</th>\n",
       "      <th>O3_Media</th>\n",
       "      <th>O3_Mediana</th>\n",
       "      <th>O3_Max</th>\n",
       "      <th>O3_Min</th>\n",
       "    </tr>\n",
       "  </thead>\n",
       "  <tbody>\n",
       "    <tr>\n",
       "      <th>count</th>\n",
       "      <td>1035.000000</td>\n",
       "      <td>1029.000000</td>\n",
       "      <td>1029.000000</td>\n",
       "      <td>1029.000000</td>\n",
       "      <td>1029.000000</td>\n",
       "      <td>1024.000000</td>\n",
       "      <td>1024.000000</td>\n",
       "      <td>1024.000000</td>\n",
       "      <td>1024.000000</td>\n",
       "    </tr>\n",
       "    <tr>\n",
       "      <th>mean</th>\n",
       "      <td>3.069565</td>\n",
       "      <td>138.707705</td>\n",
       "      <td>118.982507</td>\n",
       "      <td>375.554908</td>\n",
       "      <td>76.253644</td>\n",
       "      <td>59.125345</td>\n",
       "      <td>57.411133</td>\n",
       "      <td>103.731445</td>\n",
       "      <td>11.768555</td>\n",
       "    </tr>\n",
       "    <tr>\n",
       "      <th>std</th>\n",
       "      <td>4.634722</td>\n",
       "      <td>347.646442</td>\n",
       "      <td>339.677109</td>\n",
       "      <td>528.521641</td>\n",
       "      <td>331.324243</td>\n",
       "      <td>23.948156</td>\n",
       "      <td>28.370737</td>\n",
       "      <td>27.306829</td>\n",
       "      <td>13.530464</td>\n",
       "    </tr>\n",
       "    <tr>\n",
       "      <th>min</th>\n",
       "      <td>0.000000</td>\n",
       "      <td>6.173611</td>\n",
       "      <td>6.000000</td>\n",
       "      <td>13.000000</td>\n",
       "      <td>2.000000</td>\n",
       "      <td>2.650000</td>\n",
       "      <td>3.000000</td>\n",
       "      <td>4.000000</td>\n",
       "      <td>0.000000</td>\n",
       "    </tr>\n",
       "    <tr>\n",
       "      <th>25%</th>\n",
       "      <td>0.000000</td>\n",
       "      <td>68.729167</td>\n",
       "      <td>60.500000</td>\n",
       "      <td>128.000000</td>\n",
       "      <td>25.000000</td>\n",
       "      <td>39.734375</td>\n",
       "      <td>34.500000</td>\n",
       "      <td>83.000000</td>\n",
       "      <td>3.000000</td>\n",
       "    </tr>\n",
       "    <tr>\n",
       "      <th>50%</th>\n",
       "      <td>2.000000</td>\n",
       "      <td>98.291667</td>\n",
       "      <td>89.000000</td>\n",
       "      <td>199.000000</td>\n",
       "      <td>62.000000</td>\n",
       "      <td>62.565972</td>\n",
       "      <td>63.000000</td>\n",
       "      <td>106.000000</td>\n",
       "      <td>6.000000</td>\n",
       "    </tr>\n",
       "    <tr>\n",
       "      <th>75%</th>\n",
       "      <td>4.000000</td>\n",
       "      <td>130.208333</td>\n",
       "      <td>117.500000</td>\n",
       "      <td>398.000000</td>\n",
       "      <td>78.000000</td>\n",
       "      <td>78.555556</td>\n",
       "      <td>80.500000</td>\n",
       "      <td>125.000000</td>\n",
       "      <td>16.000000</td>\n",
       "    </tr>\n",
       "    <tr>\n",
       "      <th>max</th>\n",
       "      <td>45.000000</td>\n",
       "      <td>5361.151515</td>\n",
       "      <td>5361.000000</td>\n",
       "      <td>5374.000000</td>\n",
       "      <td>5352.000000</td>\n",
       "      <td>123.230769</td>\n",
       "      <td>131.000000</td>\n",
       "      <td>182.000000</td>\n",
       "      <td>81.000000</td>\n",
       "    </tr>\n",
       "  </tbody>\n",
       "</table>\n",
       "</div>"
      ],
      "text/plain": [
       "           NO2_Min     CO_Media   CO_Mediana       CO_Max       CO_Min  \\\n",
       "count  1035.000000  1029.000000  1029.000000  1029.000000  1029.000000   \n",
       "mean      3.069565   138.707705   118.982507   375.554908    76.253644   \n",
       "std       4.634722   347.646442   339.677109   528.521641   331.324243   \n",
       "min       0.000000     6.173611     6.000000    13.000000     2.000000   \n",
       "25%       0.000000    68.729167    60.500000   128.000000    25.000000   \n",
       "50%       2.000000    98.291667    89.000000   199.000000    62.000000   \n",
       "75%       4.000000   130.208333   117.500000   398.000000    78.000000   \n",
       "max      45.000000  5361.151515  5361.000000  5374.000000  5352.000000   \n",
       "\n",
       "          O3_Media   O3_Mediana       O3_Max       O3_Min  \n",
       "count  1024.000000  1024.000000  1024.000000  1024.000000  \n",
       "mean     59.125345    57.411133   103.731445    11.768555  \n",
       "std      23.948156    28.370737    27.306829    13.530464  \n",
       "min       2.650000     3.000000     4.000000     0.000000  \n",
       "25%      39.734375    34.500000    83.000000     3.000000  \n",
       "50%      62.565972    63.000000   106.000000     6.000000  \n",
       "75%      78.555556    80.500000   125.000000    16.000000  \n",
       "max     123.230769   131.000000   182.000000    81.000000  "
      ]
     },
     "execution_count": 49,
     "metadata": {},
     "output_type": "execute_result"
    }
   ],
   "source": [
    "#df_tablaCD[['SO2_Media','SO2_Mediana','SO2_Max','SO2_Min','PART_Media','PART_Mediana','PART_Max','PART_Min','NO2_Media', 'NO2_Mediana', 'NO2_Max']].describe()\n",
    "df_tablaCD[['NO2_Min', 'CO_Media', 'CO_Mediana', 'CO_Max', 'CO_Min', 'O3_Media', 'O3_Mediana', 'O3_Max', 'O3_Min']].describe()"
   ]
  },
  {
   "cell_type": "code",
   "execution_count": 7,
   "metadata": {},
   "outputs": [],
   "source": [
    "## Representacion grafica contaminacion"
   ]
  },
  {
   "cell_type": "code",
   "execution_count": 50,
   "metadata": {},
   "outputs": [],
   "source": [
    "# Creacion de columna con los meses de los distintos registros para su siguientes agrupamiento\n",
    "# Extraccion del mes de la columna fecha: df_tablaGN[\"fecha\"].str[0:7]\n",
    "df_tablaGN[\"mes\"] = df_tablaGN[\"fecha\"].str[5:7]\n",
    "df_tablaPC[\"mes\"] = df_tablaPC[\"fecha\"].str[5:7]\n",
    "df_tablaCD[\"mes\"] = df_tablaCD[\"fecha\"].str[5:7]"
   ]
  },
  {
   "cell_type": "code",
   "execution_count": 51,
   "metadata": {},
   "outputs": [
    {
     "data": {
      "text/plain": [
       "<matplotlib.axes._subplots.AxesSubplot at 0x2491762e2e8>"
      ]
     },
     "execution_count": 51,
     "metadata": {},
     "output_type": "execute_result"
    },
    {
     "data": {
      "image/png": "[encoded data removed]",
      "text/plain": [
       "<Figure size 432x288 with 1 Axes>"
      ]
     },
     "metadata": {
      "needs_background": "light"
     },
     "output_type": "display_data"
    }
   ],
   "source": [
    "df_tablaGN.groupby(\"mes\")['SO2_Media'].mean().plot(kind = 'bar', legend = 'Reverese', color='blue')"
   ]
  },
  {
   "cell_type": "code",
   "execution_count": 52,
   "metadata": {},
   "outputs": [
    {
     "data": {
      "text/plain": [
       "<matplotlib.axes._subplots.AxesSubplot at 0x2491976a1d0>"
      ]
     },
     "execution_count": 52,
     "metadata": {},
     "output_type": "execute_result"
    },
    {
     "data": {
      "image/png": "[encoded data removed]",
      "text/plain": [
       "<Figure size 432x288 with 1 Axes>"
      ]
     },
     "metadata": {
      "needs_background": "light"
     },
     "output_type": "display_data"
    }
   ],
   "source": [
    "df_tablaPC.groupby(\"mes\")['SO2_Media'].mean().plot(kind = 'bar', legend = 'Reverese', color='red')"
   ]
  },
  {
   "cell_type": "code",
   "execution_count": 53,
   "metadata": {},
   "outputs": [
    {
     "data": {
      "text/plain": [
       "<matplotlib.axes._subplots.AxesSubplot at 0x249197ee470>"
      ]
     },
     "execution_count": 53,
     "metadata": {},
     "output_type": "execute_result"
    },
    {
     "data": {
      "image/png": "[encoded data removed]",
      "text/plain": [
       "<Figure size 432x288 with 1 Axes>"
      ]
     },
     "metadata": {
      "needs_background": "light"
     },
     "output_type": "display_data"
    }
   ],
   "source": [
    "df_tablaCD.groupby(\"mes\")['SO2_Media'].mean().plot(kind = 'bar', legend = 'Reverese', color='green')"
   ]
  },
  {
   "cell_type": "code",
   "execution_count": 54,
   "metadata": {},
   "outputs": [
    {
     "data": {
      "text/plain": [
       "<matplotlib.axes._subplots.AxesSubplot at 0x24919869ac8>"
      ]
     },
     "execution_count": 54,
     "metadata": {},
     "output_type": "execute_result"
    },
    {
     "data": {
      "image/png": "[encoded data removed]",
      "text/plain": [
       "<Figure size 432x288 with 1 Axes>"
      ]
     },
     "metadata": {
      "needs_background": "light"
     },
     "output_type": "display_data"
    }
   ],
   "source": [
    "df_tablaGN.groupby(\"mes\")['PART_Media'].mean().plot(kind = 'bar', legend = 'Reverese')"
   ]
  },
  {
   "cell_type": "code",
   "execution_count": 55,
   "metadata": {},
   "outputs": [
    {
     "data": {
      "text/plain": [
       "<matplotlib.axes._subplots.AxesSubplot at 0x249198f13c8>"
      ]
     },
     "execution_count": 55,
     "metadata": {},
     "output_type": "execute_result"
    },
    {
     "data": {
      "image/png": "[encoded data removed]",
      "text/plain": [
       "<Figure size 432x288 with 1 Axes>"
      ]
     },
     "metadata": {
      "needs_background": "light"
     },
     "output_type": "display_data"
    }
   ],
   "source": [
    "df_tablaPC.groupby(\"mes\")['PART_Media'].mean().plot(kind = 'bar', legend = 'Reverese', color='red')"
   ]
  },
  {
   "cell_type": "code",
   "execution_count": 56,
   "metadata": {},
   "outputs": [
    {
     "data": {
      "text/plain": [
       "<matplotlib.axes._subplots.AxesSubplot at 0x24919979f28>"
      ]
     },
     "execution_count": 56,
     "metadata": {},
     "output_type": "execute_result"
    },
    {
     "data": {
      "image/png": "[encoded data removed]",
      "text/plain": [
       "<Figure size 432x288 with 1 Axes>"
      ]
     },
     "metadata": {
      "needs_background": "light"
     },
     "output_type": "display_data"
    }
   ],
   "source": [
    "df_tablaCD.groupby(\"mes\")['PART_Media'].mean().plot(kind = 'bar', legend = 'Reverese', color='green')"
   ]
  },
  {
   "cell_type": "code",
   "execution_count": 57,
   "metadata": {},
   "outputs": [
    {
     "data": {
      "text/plain": [
       "<matplotlib.axes._subplots.AxesSubplot at 0x249199ef898>"
      ]
     },
     "execution_count": 57,
     "metadata": {},
     "output_type": "execute_result"
    },
    {
     "data": {
      "image/png": "[encoded data removed]",
      "text/plain": [
       "<Figure size 432x288 with 1 Axes>"
      ]
     },
     "metadata": {
      "needs_background": "light"
     },
     "output_type": "display_data"
    }
   ],
   "source": [
    "df_tablaGN.groupby(\"mes\")['NO2_Media'].mean().plot(kind = 'bar', legend = 'Reverese')"
   ]
  },
  {
   "cell_type": "code",
   "execution_count": 58,
   "metadata": {},
   "outputs": [
    {
     "data": {
      "text/plain": [
       "<matplotlib.axes._subplots.AxesSubplot at 0x24919a77b38>"
      ]
     },
     "execution_count": 58,
     "metadata": {},
     "output_type": "execute_result"
    },
    {
     "data": {
      "image/png": "[encoded data removed]",
      "text/plain": [
       "<Figure size 432x288 with 1 Axes>"
      ]
     },
     "metadata": {
      "needs_background": "light"
     },
     "output_type": "display_data"
    }
   ],
   "source": [
    "df_tablaPC.groupby(\"mes\")['NO2_Media'].mean().plot(kind = 'bar', legend = 'Reverese', color='red')"
   ]
  },
  {
   "cell_type": "code",
   "execution_count": 59,
   "metadata": {},
   "outputs": [
    {
     "data": {
      "text/plain": [
       "<matplotlib.axes._subplots.AxesSubplot at 0x24919b05b00>"
      ]
     },
     "execution_count": 59,
     "metadata": {},
     "output_type": "execute_result"
    },
    {
     "data": {
      "image/png": "[encoded data removed]",
      "text/plain": [
       "<Figure size 432x288 with 1 Axes>"
      ]
     },
     "metadata": {
      "needs_background": "light"
     },
     "output_type": "display_data"
    }
   ],
   "source": [
    "df_tablaCD.groupby(\"mes\")['NO2_Media'].mean().plot(kind = 'bar', legend = 'Reverese', color='green')"
   ]
  },
  {
   "cell_type": "code",
   "execution_count": 60,
   "metadata": {},
   "outputs": [
    {
     "data": {
      "text/plain": [
       "<matplotlib.axes._subplots.AxesSubplot at 0x24919b79128>"
      ]
     },
     "execution_count": 60,
     "metadata": {},
     "output_type": "execute_result"
    },
    {
     "data": {
      "image/png": "[encoded data removed]",
      "text/plain": [
       "<Figure size 432x288 with 1 Axes>"
      ]
     },
     "metadata": {
      "needs_background": "light"
     },
     "output_type": "display_data"
    }
   ],
   "source": [
    "df_tablaGN.groupby(\"mes\")['CO_Media'].mean().plot(kind = 'bar', legend = 'Reverese')"
   ]
  },
  {
   "cell_type": "code",
   "execution_count": 61,
   "metadata": {},
   "outputs": [
    {
     "data": {
      "text/plain": [
       "<matplotlib.axes._subplots.AxesSubplot at 0x24919c13908>"
      ]
     },
     "execution_count": 61,
     "metadata": {},
     "output_type": "execute_result"
    },
    {
     "data": {
      "image/png": "[encoded data removed]",
      "text/plain": [
       "<Figure size 432x288 with 1 Axes>"
      ]
     },
     "metadata": {
      "needs_background": "light"
     },
     "output_type": "display_data"
    }
   ],
   "source": [
    "df_tablaPC.groupby(\"mes\")['CO_Media'].mean().plot(kind = 'bar', legend = 'Reverese', color='red')"
   ]
  },
  {
   "cell_type": "code",
   "execution_count": 62,
   "metadata": {},
   "outputs": [
    {
     "data": {
      "text/plain": [
       "<matplotlib.axes._subplots.AxesSubplot at 0x24919c8c898>"
      ]
     },
     "execution_count": 62,
     "metadata": {},
     "output_type": "execute_result"
    },
    {
     "data": {
      "image/png": "[encoded data removed]",
      "text/plain": [
       "<Figure size 432x288 with 1 Axes>"
      ]
     },
     "metadata": {
      "needs_background": "light"
     },
     "output_type": "display_data"
    }
   ],
   "source": [
    "df_tablaCD.groupby(\"mes\")['CO_Media'].mean().plot(kind = 'bar', legend = 'Reverese', color='green')"
   ]
  },
  {
   "cell_type": "code",
   "execution_count": 29,
   "metadata": {},
   "outputs": [],
   "source": [
    "## Empezamos tratamiento de datos, datos faltantes"
   ]
  },
  {
   "cell_type": "code",
   "execution_count": 30,
   "metadata": {},
   "outputs": [
    {
     "data": {
      "text/plain": [
       "SimpleImputer(copy=True, fill_value=None, missing_values=nan, strategy='mean',\n",
       "       verbose=0)"
      ]
     },
     "execution_count": 30,
     "metadata": {},
     "output_type": "execute_result"
    }
   ],
   "source": [
    "df_tablaGN = df_tablaGN.reset_index()\n",
    "si_tablaGN  = SimpleImputer()\n",
    "si_tablaGN.fit(df_tablaGN[['SO2_Media','SO2_Mediana','SO2_Max','SO2_Min','PART_Media','PART_Mediana','PART_Max','PART_Min','NO2_Media', 'NO2_Mediana', 'NO2_Max', 'NO2_Min', 'CO_Media', 'CO_Mediana', 'CO_Max', 'CO_Min']])\n",
    "\n",
    "df_tablaPC = df_tablaPC.reset_index()\n",
    "si_tablaPC  = SimpleImputer()\n",
    "si_tablaPC.fit(df_tablaPC[['SO2_Media','SO2_Mediana','SO2_Max','SO2_Min','PART_Media','PART_Mediana','PART_Max','PART_Min','NO2_Media', 'NO2_Mediana', 'NO2_Max', 'NO2_Min', 'CO_Media', 'CO_Mediana', 'CO_Max', 'CO_Min']])\n",
    "\n",
    "df_tablaCD = df_tablaCD.reset_index()\n",
    "si_tablaCD  = SimpleImputer()\n",
    "si_tablaCD.fit(df_tablaCD[['SO2_Media','SO2_Mediana','SO2_Max','SO2_Min','PART_Media','PART_Mediana','PART_Max','PART_Min','NO2_Media', 'NO2_Mediana', 'NO2_Max', 'NO2_Min', 'CO_Media', 'CO_Mediana', 'CO_Max', 'CO_Min']])"
   ]
  },
  {
   "cell_type": "code",
   "execution_count": 32,
   "metadata": {},
   "outputs": [],
   "source": [
    "df_tablaGN[\"SO2_Media\"] = si_tablaGN.fit_transform(df_tablaGN[\"SO2_Media\"].values.reshape(-1, 1))\n",
    "df_tablaGN[\"SO2_Mediana\"] = si_tablaGN.fit_transform(df_tablaGN[\"SO2_Mediana\"].values.reshape(-1, 1))\n",
    "df_tablaGN[\"SO2_Max\"] = si_tablaGN.fit_transform(df_tablaGN[\"SO2_Max\"].values.reshape(-1, 1))\n",
    "df_tablaGN[\"SO2_Min\"] = si_tablaGN.fit_transform(df_tablaGN[\"SO2_Min\"].values.reshape(-1, 1))\n",
    "df_tablaGN[\"PART_Media\"] = si_tablaGN.fit_transform(df_tablaGN[\"PART_Media\"].values.reshape(-1, 1))\n",
    "df_tablaGN[\"PART_Mediana\"] = si_tablaGN.fit_transform(df_tablaGN[\"PART_Mediana\"].values.reshape(-1, 1))\n",
    "df_tablaGN[\"PART_Max\"] = si_tablaGN.fit_transform(df_tablaGN[\"PART_Max\"].values.reshape(-1, 1))\n",
    "df_tablaGN[\"PART_Min\"] = si_tablaGN.fit_transform(df_tablaGN[\"PART_Min\"].values.reshape(-1, 1))\n",
    "df_tablaGN[\"NO2_Media\"] = si_tablaGN.fit_transform(df_tablaGN[\"NO2_Media\"].values.reshape(-1, 1))\n",
    "df_tablaGN[\"NO2_Mediana\"] = si_tablaGN.fit_transform(df_tablaGN[\"NO2_Mediana\"].values.reshape(-1, 1))\n",
    "df_tablaGN[\"NO2_Max\"] = si_tablaGN.fit_transform(df_tablaGN[\"NO2_Max\"].values.reshape(-1, 1))\n",
    "df_tablaGN[\"NO2_Min\"] = si_tablaGN.fit_transform(df_tablaGN[\"NO2_Min\"].values.reshape(-1, 1))\n",
    "df_tablaGN[\"CO_Media\"] = si_tablaGN.fit_transform(df_tablaGN[\"CO_Media\"].values.reshape(-1, 1))\n",
    "df_tablaGN[\"CO_Mediana\"] = si_tablaGN.fit_transform(df_tablaGN[\"CO_Mediana\"].values.reshape(-1, 1))\n",
    "df_tablaGN[\"CO_Max\"] = si_tablaGN.fit_transform(df_tablaGN[\"CO_Max\"].values.reshape(-1, 1))\n",
    "df_tablaGN[\"CO_Min\"] = si_tablaGN.fit_transform(df_tablaGN[\"CO_Min\"].values.reshape(-1, 1))\n",
    "\n",
    "df_tablaPC[\"SO2_Media\"] = si_tablaPC.fit_transform(df_tablaPC[\"SO2_Media\"].values.reshape(-1, 1))\n",
    "df_tablaPC[\"SO2_Mediana\"] = si_tablaPC.fit_transform(df_tablaPC[\"SO2_Mediana\"].values.reshape(-1, 1))\n",
    "df_tablaPC[\"SO2_Max\"] = si_tablaPC.fit_transform(df_tablaPC[\"SO2_Max\"].values.reshape(-1, 1))\n",
    "df_tablaPC[\"SO2_Min\"] = si_tablaPC.fit_transform(df_tablaPC[\"SO2_Min\"].values.reshape(-1, 1))\n",
    "df_tablaPC[\"PART_Media\"] = si_tablaPC.fit_transform(df_tablaPC[\"PART_Media\"].values.reshape(-1, 1))\n",
    "df_tablaPC[\"PART_Mediana\"] = si_tablaPC.fit_transform(df_tablaPC[\"PART_Mediana\"].values.reshape(-1, 1))\n",
    "df_tablaPC[\"PART_Max\"] = si_tablaPC.fit_transform(df_tablaPC[\"PART_Max\"].values.reshape(-1, 1))\n",
    "df_tablaPC[\"PART_Min\"] = si_tablaPC.fit_transform(df_tablaPC[\"PART_Min\"].values.reshape(-1, 1))\n",
    "df_tablaPC[\"NO2_Media\"] = si_tablaPC.fit_transform(df_tablaPC[\"NO2_Media\"].values.reshape(-1, 1))\n",
    "df_tablaPC[\"NO2_Mediana\"] = si_tablaPC.fit_transform(df_tablaPC[\"NO2_Mediana\"].values.reshape(-1, 1))\n",
    "df_tablaPC[\"NO2_Max\"] = si_tablaPC.fit_transform(df_tablaPC[\"NO2_Max\"].values.reshape(-1, 1))\n",
    "df_tablaPC[\"NO2_Min\"] = si_tablaPC.fit_transform(df_tablaPC[\"NO2_Min\"].values.reshape(-1, 1))\n",
    "df_tablaPC[\"CO_Media\"] = si_tablaPC.fit_transform(df_tablaPC[\"CO_Media\"].values.reshape(-1, 1))\n",
    "df_tablaPC[\"CO_Mediana\"] = si_tablaPC.fit_transform(df_tablaPC[\"CO_Mediana\"].values.reshape(-1, 1))\n",
    "df_tablaPC[\"CO_Max\"] = si_tablaPC.fit_transform(df_tablaPC[\"CO_Max\"].values.reshape(-1, 1))\n",
    "df_tablaPC[\"CO_Min\"] = si_tablaPC.fit_transform(df_tablaPC[\"CO_Min\"].values.reshape(-1, 1))\n",
    "\n",
    "df_tablaCD[\"SO2_Media\"] = si_tablaCD.fit_transform(df_tablaCD[\"SO2_Media\"].values.reshape(-1, 1))\n",
    "df_tablaCD[\"SO2_Mediana\"] = si_tablaCD.fit_transform(df_tablaCD[\"SO2_Mediana\"].values.reshape(-1, 1))\n",
    "df_tablaCD[\"SO2_Max\"] = si_tablaCD.fit_transform(df_tablaCD[\"SO2_Max\"].values.reshape(-1, 1))\n",
    "df_tablaCD[\"SO2_Min\"] = si_tablaCD.fit_transform(df_tablaCD[\"SO2_Min\"].values.reshape(-1, 1))\n",
    "df_tablaCD[\"PART_Media\"] = si_tablaCD.fit_transform(df_tablaCD[\"PART_Media\"].values.reshape(-1, 1))\n",
    "df_tablaCD[\"PART_Mediana\"] = si_tablaCD.fit_transform(df_tablaCD[\"PART_Mediana\"].values.reshape(-1, 1))\n",
    "df_tablaCD[\"PART_Max\"] = si_tablaCD.fit_transform(df_tablaCD[\"PART_Max\"].values.reshape(-1, 1))\n",
    "df_tablaCD[\"PART_Min\"] = si_tablaCD.fit_transform(df_tablaCD[\"PART_Min\"].values.reshape(-1, 1))\n",
    "df_tablaCD[\"NO2_Media\"] = si_tablaCD.fit_transform(df_tablaCD[\"NO2_Media\"].values.reshape(-1, 1))\n",
    "df_tablaCD[\"NO2_Mediana\"] = si_tablaCD.fit_transform(df_tablaCD[\"NO2_Mediana\"].values.reshape(-1, 1))\n",
    "df_tablaCD[\"NO2_Max\"] = si_tablaCD.fit_transform(df_tablaCD[\"NO2_Max\"].values.reshape(-1, 1))\n",
    "df_tablaCD[\"NO2_Min\"] = si_tablaCD.fit_transform(df_tablaCD[\"NO2_Min\"].values.reshape(-1, 1))\n",
    "df_tablaCD[\"CO_Media\"] = si_tablaCD.fit_transform(df_tablaCD[\"CO_Media\"].values.reshape(-1, 1))\n",
    "df_tablaCD[\"CO_Mediana\"] = si_tablaCD.fit_transform(df_tablaCD[\"CO_Mediana\"].values.reshape(-1, 1))\n",
    "df_tablaCD[\"CO_Max\"] = si_tablaCD.fit_transform(df_tablaCD[\"CO_Max\"].values.reshape(-1, 1))\n",
    "df_tablaCD[\"CO_Min\"] = si_tablaCD.fit_transform(df_tablaCD[\"CO_Min\"].values.reshape(-1, 1))"
   ]
  }
 ],
 "metadata": {
  "kernelspec": {
   "display_name": "Python 3",
   "language": "python",
   "name": "python3"
  },
  "language_info": {
   "codemirror_mode": {
    "name": "ipython",
    "version": 3
   },
   "file_extension": ".py",
   "mimetype": "text/x-python",
   "name": "python",
   "nbconvert_exporter": "python",
   "pygments_lexer": "ipython3",
   "version": "3.6.8"
  }
 },
 "nbformat": 4,
 "nbformat_minor": 2
}
