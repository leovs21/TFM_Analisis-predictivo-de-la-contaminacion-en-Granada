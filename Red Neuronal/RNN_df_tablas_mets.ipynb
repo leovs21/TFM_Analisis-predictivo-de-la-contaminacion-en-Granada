{
 "cells": [
  {
   "cell_type": "code",
   "execution_count": 1,
   "metadata": {},
   "outputs": [],
   "source": [
    "import pandas as pd\n",
    "import numpy as np\n",
    "\n",
    "#Colocar nombre de la estacion de contaminacion y la estacion metereologica\n",
    "datos = pd.read_csv('D:/lvs/Master/ProyectoTFM/datos/Post-Procesing/df_tablaGN_metGA.csv')\n",
    "\n",
    "#Creamos conjuntos de datos\n",
    "X = datos.iloc[:,1:-1].values\n",
    "y = datos.iloc[:,-1].values"
   ]
  },
  {
   "cell_type": "code",
   "execution_count": 177,
   "metadata": {},
   "outputs": [],
   "source": [
    "#Dividir concunto de entrenamiento y de testing\n",
    "from sklearn.model_selection import train_test_split\n",
    "X_train, X_test, y_train, y_test = train_test_split(X, y, test_size = 0.25, random_state = 0)"
   ]
  },
  {
   "cell_type": "code",
   "execution_count": 178,
   "metadata": {},
   "outputs": [],
   "source": [
    "from sklearn.preprocessing import StandardScaler\n",
    "sc_X = StandardScaler()\n",
    "X_train_mod = sc_X.fit_transform(X_train)\n",
    "X_test_mod = sc_X.transform(X_test)\n",
    "sc_y = StandardScaler()\n",
    "y_train_mod = sc_y.fit_transform(y_train.reshape(-1, 1))\n",
    "y_test_mod = sc_y.transform(y_test.reshape(-1, 1))"
   ]
  },
  {
   "cell_type": "code",
   "execution_count": 179,
   "metadata": {},
   "outputs": [],
   "source": [
    "def evaluate(model, test_features, test_labels):\n",
    "    predictions = model.predict(test_features)\n",
    "    errors = abs(predictions - test_labels)\n",
    "    mape = 100 * np.mean(errors / test_labels)\n",
    "    accuracy = 100 - mape\n",
    "    print('Error promedio: ' + str(np.mean(errors)))\n",
    "    print('Precision: ' + str(accuracy))\n",
    "    return accuracy\n",
    "\n",
    "def evaluate2(model, test_features, test_labels):\n",
    "    predictions = model.predict(test_features)\n",
    "    predictions = sc_y.inverse_transform(predictions)\n",
    "    errors = abs(predictions - test_labels)\n",
    "    mape = 100 * np.mean(errors / test_labels)\n",
    "    accuracy = 100 - mape\n",
    "    print('Error promedio: ' + str(np.mean(errors)))\n",
    "    print('Precision: ' + str(accuracy))\n",
    "    return accuracy"
   ]
  },
  {
   "cell_type": "code",
   "execution_count": 180,
   "metadata": {},
   "outputs": [],
   "source": [
    "import keras\n",
    "from keras.models import Sequential\n",
    "from keras.layers import Dense"
   ]
  },
  {
   "cell_type": "code",
   "execution_count": 181,
   "metadata": {},
   "outputs": [],
   "source": [
    "##Inicializar la red neuronal\n",
    "#network = Sequential()\n",
    "##Añadimos la capas de entrada y primera capa oculta\n",
    "#network.add(Dense(units = 10, kernel_initializer = \"uniform\", activation = \"relu\", input_dim=17))#14 de entrada\n",
    "##Segunda capa oculta\n",
    "#network.add(Dense(units = 8, kernel_initializer = \"uniform\", activation = \"relu\"))\n",
    "#network.add(Dense(units = 6, kernel_initializer = \"uniform\", activation = \"relu\"))\n",
    "#network.add(Dense(units = 4, kernel_initializer = \"uniform\", activation = \"relu\"))\n",
    "#network.add(Dense(units = 3, kernel_initializer = \"uniform\", activation = \"relu\"))\n",
    "##Capa de salida\n",
    "#network.add(Dense(units = 1, kernel_initializer = \"uniform\"))"
   ]
  },
  {
   "cell_type": "code",
   "execution_count": 182,
   "metadata": {},
   "outputs": [],
   "source": [
    "#Inicializar la red neuronal\n",
    "network = Sequential()\n",
    "#Añadimos la capas de entrada y primera capa oculta\n",
    "network.add(Dense(units = 18, kernel_initializer = \"uniform\", activation = \"relu\", input_dim=17))#14 de entrada\n",
    "#Segunda capa oculta\n",
    "network.add(Dense(units = 36, kernel_initializer = \"uniform\", activation = \"relu\"))\n",
    "network.add(Dense(units = 18, kernel_initializer = \"uniform\", activation = \"relu\"))\n",
    "network.add(Dense(units = 9, kernel_initializer = \"uniform\", activation = \"relu\"))\n",
    "network.add(Dense(units = 5, kernel_initializer = \"uniform\", activation = \"relu\"))\n",
    "#Capa de salida\n",
    "network.add(Dense(units = 1, kernel_initializer = \"uniform\"))"
   ]
  },
  {
   "cell_type": "code",
   "execution_count": 183,
   "metadata": {},
   "outputs": [],
   "source": [
    "#Inicializar la red neuronal\n",
    "network = Sequential()\n",
    "#Añadimos la capas de entrada y primera capa oculta\n",
    "network.add(Dense(units = 24, kernel_initializer = \"uniform\", activation = \"relu\", input_dim=17))#14 de entrada\n",
    "#Segunda capa oculta\n",
    "#network.add(Dense(units = 48, kernel_initializer = \"uniform\", activation = \"relu\"))\n",
    "#network.add(Dense(units = 24, kernel_initializer = \"uniform\", activation = \"relu\"))\n",
    "#network.add(Dense(units = 12, kernel_initializer = \"uniform\", activation = \"relu\"))\n",
    "#network.add(Dense(units = 6, kernel_initializer = \"uniform\", activation = \"relu\"))\n",
    "#network.add(Dense(units = 3, kernel_initializer = \"uniform\", activation = \"relu\"))\n",
    "#Capa de salida\n",
    "network.add(Dense(units = 1, kernel_initializer = \"uniform\"))"
   ]
  },
  {
   "cell_type": "code",
   "execution_count": 184,
   "metadata": {},
   "outputs": [
    {
     "name": "stdout",
     "output_type": "stream",
     "text": [
      "_________________________________________________________________\n",
      "Layer (type)                 Output Shape              Param #   \n",
      "=================================================================\n",
      "dense_70 (Dense)             (None, 24)                432       \n",
      "_________________________________________________________________\n",
      "dense_71 (Dense)             (None, 1)                 25        \n",
      "=================================================================\n",
      "Total params: 457\n",
      "Trainable params: 457\n",
      "Non-trainable params: 0\n",
      "_________________________________________________________________\n",
      "None\n"
     ]
    }
   ],
   "source": [
    "print(network.summary())"
   ]
  },
  {
   "cell_type": "code",
   "execution_count": 185,
   "metadata": {},
   "outputs": [
    {
     "name": "stdout",
     "output_type": "stream",
     "text": [
      "Epoch 1/25\n",
      "806/806 [==============================] - 13s 16ms/step - loss: 0.7121\n",
      "Epoch 2/25\n",
      "806/806 [==============================] - 1s 1ms/step - loss: 0.4986\n",
      "Epoch 3/25\n",
      "806/806 [==============================] - 1s 1ms/step - loss: 0.4818\n",
      "Epoch 4/25\n",
      "806/806 [==============================] - 1s 1ms/step - loss: 0.4645\n",
      "Epoch 5/25\n",
      "806/806 [==============================] - 1s 1ms/step - loss: 0.4543\n",
      "Epoch 6/25\n",
      "806/806 [==============================] - 1s 1ms/step - loss: 0.4426\n",
      "Epoch 7/25\n",
      "806/806 [==============================] - 1s 1ms/step - loss: 0.4359\n",
      "Epoch 8/25\n",
      "806/806 [==============================] - 1s 1ms/step - loss: 0.4331\n",
      "Epoch 9/25\n",
      "806/806 [==============================] - 1s 1ms/step - loss: 0.4273\n",
      "Epoch 10/25\n",
      "806/806 [==============================] - 1s 1ms/step - loss: 0.4268\n",
      "Epoch 11/25\n",
      "806/806 [==============================] - ETA: 0s - loss: 0.424 - 1s 1ms/step - loss: 0.4283\n",
      "Epoch 12/25\n",
      "806/806 [==============================] - 1s 1ms/step - loss: 0.4184\n",
      "Epoch 13/25\n",
      "806/806 [==============================] - 1s 1ms/step - loss: 0.4172\n",
      "Epoch 14/25\n",
      "806/806 [==============================] - 1s 1ms/step - loss: 0.4171\n",
      "Epoch 15/25\n",
      "806/806 [==============================] - 1s 1ms/step - loss: 0.4148\n",
      "Epoch 16/25\n",
      "806/806 [==============================] - 1s 1ms/step - loss: 0.4152\n",
      "Epoch 17/25\n",
      "806/806 [==============================] - 1s 1ms/step - loss: 0.4153\n",
      "Epoch 18/25\n",
      "806/806 [==============================] - 1s 1ms/step - loss: 0.4107\n",
      "Epoch 19/25\n",
      "806/806 [==============================] - ETA: 0s - loss: 0.409 - 1s 1ms/step - loss: 0.4120\n",
      "Epoch 20/25\n",
      "806/806 [==============================] - 1s 1ms/step - loss: 0.4067\n",
      "Epoch 21/25\n",
      "806/806 [==============================] - 1s 1ms/step - loss: 0.4066\n",
      "Epoch 22/25\n",
      "806/806 [==============================] - 1s 1ms/step - loss: 0.4028\n",
      "Epoch 23/25\n",
      "806/806 [==============================] - 1s 1ms/step - loss: 0.4017\n",
      "Epoch 24/25\n",
      "806/806 [==============================] - 1s 1ms/step - loss: 0.4030\n",
      "Epoch 25/25\n",
      "806/806 [==============================] - 1s 1ms/step - loss: 0.4026\n"
     ]
    },
    {
     "data": {
      "text/plain": [
       "<keras.callbacks.History at 0x1a8b00fccf8>"
      ]
     },
     "execution_count": 185,
     "metadata": {},
     "output_type": "execute_result"
    }
   ],
   "source": [
    "#Compilar la red neuronal\n",
    "network.compile(optimizer = \"adam\", loss = 'mean_squared_error')#, metrics=['cosine']\n",
    "\n",
    "#entrenamiento\n",
    "network.fit(X_train_mod, y_train_mod, batch_size = 5, epochs = 25)"
   ]
  },
  {
   "cell_type": "code",
   "execution_count": 186,
   "metadata": {},
   "outputs": [],
   "source": [
    "y_pred = network.predict(X_test_mod)"
   ]
  },
  {
   "cell_type": "code",
   "execution_count": 187,
   "metadata": {},
   "outputs": [
    {
     "name": "stdout",
     "output_type": "stream",
     "text": [
      "Error promedio: 13.413810104530844\n",
      "Precision: 43.843638765068945\n"
     ]
    }
   ],
   "source": [
    "resultado = evaluate2(network, X_test_mod, y_test)"
   ]
  },
  {
   "cell_type": "code",
   "execution_count": 188,
   "metadata": {},
   "outputs": [],
   "source": [
    "from keras.wrappers.scikit_learn import KerasRegressor\n",
    "model = KerasRegressor(build_fn=network, epochs=100, batch_size=10, verbose=0)"
   ]
  },
  {
   "cell_type": "code",
   "execution_count": 189,
   "metadata": {},
   "outputs": [],
   "source": [
    "from sklearn.pipeline import Pipeline\n",
    "estimators = []\n",
    "estimators.append(('standardize', StandardScaler()))\n",
    "estimators.append(('re', KerasRegressor(build_fn=network, epochs=100, batch_size=10, verbose=0)))\n",
    "pipeline = Pipeline(estimators)"
   ]
  },
  {
   "cell_type": "code",
   "execution_count": 190,
   "metadata": {},
   "outputs": [
    {
     "name": "stderr",
     "output_type": "stream",
     "text": [
      "C:\\Python\\Anaconda3\\lib\\site-packages\\sklearn\\model_selection\\_validation.py:559: FitFailedWarning: Estimator fit failed. The score on this train-test partition for these parameters will be set to 0.000000. Details: \n",
      "TypeError: __call__() missing 1 required positional argument: 'inputs'\n",
      "\n",
      "  FitFailedWarning)\n"
     ]
    },
    {
     "name": "stdout",
     "output_type": "stream",
     "text": [
      "Metricas cross_validation [0 0 0 0 0]\n",
      "Media de cross_validation 0.0\n",
      "0.4344529830942727\n",
      "regreso de la estandarizacion:0.4344529812761825\n"
     ]
    }
   ],
   "source": [
    "from sklearn.model_selection import cross_val_score\n",
    "from sklearn.model_selection import KFold\n",
    "from sklearn.metrics import r2_score\n",
    "kf = KFold(n_splits=5)\n",
    "\n",
    "#score = predictor.score(X_train_mod,y_train_mod)\n",
    "#print(\"Metrica del modelo\", score)\n",
    "\n",
    "scores = cross_val_score(model, X_train_mod, y_train_mod, cv=kf, scoring='r2', error_score=0)\n",
    "print(\"Metricas cross_validation\", scores)\n",
    "print(\"Media de cross_validation\", scores.mean())\n",
    "\n",
    "y_pred = network.predict(X_test_mod)\n",
    "print(r2_score(y_pred, y_test_mod))\n",
    "print('regreso de la estandarizacion:' + str(r2_score(sc_y.inverse_transform(y_pred), y_test)))"
   ]
  },
  {
   "cell_type": "code",
   "execution_count": 192,
   "metadata": {},
   "outputs": [
    {
     "data": {
      "text/plain": [
       "<matplotlib.collections.PathCollection at 0x1a8b4886b70>"
      ]
     },
     "execution_count": 192,
     "metadata": {},
     "output_type": "execute_result"
    },
    {
     "data": {
      "image/png": "[encoded data removed]",
      "text/plain": [
       "<Figure size 432x288 with 1 Axes>"
      ]
     },
     "metadata": {
      "needs_background": "light"
     },
     "output_type": "display_data"
    }
   ],
   "source": [
    "from matplotlib import pyplot as plt\n",
    "plt.scatter(y_test, sc_y.inverse_transform(y_pred))"
   ]
  },
  {
   "cell_type": "code",
   "execution_count": 193,
   "metadata": {},
   "outputs": [
    {
     "data": {
      "text/plain": [
       "array([], dtype=float32)"
      ]
     },
     "execution_count": 193,
     "metadata": {},
     "output_type": "execute_result"
    }
   ],
   "source": [
    "sc_y.inverse_transform(y_pred)[sc_y.inverse_transform(y_pred) < 0]"
   ]
  },
  {
   "cell_type": "code",
   "execution_count": 194,
   "metadata": {},
   "outputs": [
    {
     "data": {
      "text/plain": [
       "array([], dtype=float64)"
      ]
     },
     "execution_count": 194,
     "metadata": {},
     "output_type": "execute_result"
    }
   ],
   "source": [
    "y_test[y_test < 0]"
   ]
  },
  {
   "cell_type": "code",
   "execution_count": 196,
   "metadata": {},
   "outputs": [
    {
     "data": {
      "image/png": "[encoded data removed]",
      "text/plain": [
       "<Figure size 432x288 with 1 Axes>"
      ]
     },
     "metadata": {
      "needs_background": "light"
     },
     "output_type": "display_data"
    }
   ],
   "source": [
    "from matplotlib import pyplot as plt\n",
    "plt.scatter(sc_y.inverse_transform(y_pred), sc_y.inverse_transform(y_test_mod) - sc_y.inverse_transform(y_pred))\n",
    "plt.xlabel('Prediccion')\n",
    "plt.ylabel('Residuo')\n",
    "plt.title('Armilla - Base Aerea de Granada')\n",
    "plt.show()"
   ]
  }
 ],
 "metadata": {
  "kernelspec": {
   "display_name": "Python 3",
   "language": "python",
   "name": "python3"
  },
  "language_info": {
   "codemirror_mode": {
    "name": "ipython",
    "version": 3
   },
   "file_extension": ".py",
   "mimetype": "text/x-python",
   "name": "python",
   "nbconvert_exporter": "python",
   "pygments_lexer": "ipython3",
   "version": "3.6.8"
  }
 },
 "nbformat": 4,
 "nbformat_minor": 2
}
