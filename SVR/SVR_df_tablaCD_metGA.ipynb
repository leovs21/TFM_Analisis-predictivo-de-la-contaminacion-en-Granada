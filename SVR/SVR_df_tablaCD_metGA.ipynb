{
 "cells": [
  {
   "cell_type": "code",
   "execution_count": 1,
   "metadata": {},
   "outputs": [],
   "source": [
    "import pandas as pd\n",
    "from sklearn.impute import SimpleImputer #Reemplazo de datos faltantes\n",
    "import numpy as np\n",
    "\n",
    "datos = pd.read_csv('D:/lvs/Master/ProyectoTFM/datos/Post-Procesing/df_tablaCD_metGA.csv')\n",
    "\n",
    "#Creamos conjuntos de datos\n",
    "X = datos.iloc[:,1:-1].values\n",
    "y = datos.iloc[:,-1].values\n",
    "\n",
    "#Dividir concunto de entrenamiento y de testing\n",
    "from sklearn.model_selection import train_test_split\n",
    "X_train, X_test, y_train, y_test = train_test_split(X, y, test_size = 0.25, random_state = 0)"
   ]
  },
  {
   "cell_type": "code",
   "execution_count": 2,
   "metadata": {},
   "outputs": [],
   "source": [
    "def evaluate(model, test_features, test_labels):\n",
    "    predictions = model.predict(test_features)\n",
    "    errors = abs(predictions - test_labels)\n",
    "    mape = 100 * np.mean(errors / test_labels)\n",
    "    accuracy = 100 - mape\n",
    "    print('Error promedio: ' + str(np.mean(errors)))\n",
    "    print('Precision: ' + str(accuracy))\n",
    "    return accuracy"
   ]
  },
  {
   "cell_type": "code",
   "execution_count": 3,
   "metadata": {},
   "outputs": [
    {
     "name": "stdout",
     "output_type": "stream",
     "text": [
      "Error promedio: 9.71956916038829\n",
      "Precision: 56.10412513135884\n"
     ]
    },
    {
     "name": "stderr",
     "output_type": "stream",
     "text": [
      "C:\\Python\\Anaconda3\\lib\\site-packages\\sklearn\\svm\\base.py:196: FutureWarning: The default value of gamma will change from 'auto' to 'scale' in version 0.22 to account better for unscaled features. Set gamma explicitly to 'auto' or 'scale' to avoid this warning.\n",
      "  \"avoid this warning.\", FutureWarning)\n"
     ]
    }
   ],
   "source": [
    "from sklearn.svm import SVR\n",
    "regressor = SVR(kernel = \"rbf\") #poly exceso de tiempo\n",
    "regressor.fit(X_train,y_train)\n",
    "resultado = evaluate(regressor, X_test, y_test)"
   ]
  },
  {
   "cell_type": "code",
   "execution_count": 4,
   "metadata": {},
   "outputs": [
    {
     "name": "stdout",
     "output_type": "stream",
     "text": [
      "Error promedio: 5.823800502067068\n",
      "Precision: 77.879573433954\n"
     ]
    }
   ],
   "source": [
    "from sklearn.svm import SVR\n",
    "regressor = SVR(kernel = \"linear\") \n",
    "regressor.fit(X_train,y_train)\n",
    "resultado = evaluate(regressor, X_test, y_test)"
   ]
  },
  {
   "cell_type": "code",
   "execution_count": 5,
   "metadata": {},
   "outputs": [
    {
     "name": "stdout",
     "output_type": "stream",
     "text": [
      "Metrica del modelo 0.5599635463909985\n",
      "Metricas cross_validation [0.59726944 0.52880435 0.61681149 0.43839723 0.47487293]\n",
      "Media de cross_validation 0.5312310871911043\n",
      "0.3780473236897799\n"
     ]
    }
   ],
   "source": [
    "from sklearn.model_selection import cross_val_score\n",
    "from sklearn.model_selection import KFold\n",
    "from sklearn.metrics import r2_score\n",
    "kf = KFold(n_splits=5)\n",
    "\n",
    "score = regressor.score(X_train,y_train)\n",
    "print(\"Metrica del modelo\", score)\n",
    "\n",
    "scores = cross_val_score(regressor, X_train, y_train, cv=kf, scoring='r2')\n",
    "print(\"Metricas cross_validation\", scores)\n",
    "print(\"Media de cross_validation\", scores.mean())\n",
    "\n",
    "y_pred = regressor.predict(X_test)\n",
    "print(r2_score(y_pred, y_test))"
   ]
  },
  {
   "cell_type": "code",
   "execution_count": 6,
   "metadata": {},
   "outputs": [
    {
     "name": "stdout",
     "output_type": "stream",
     "text": [
      "Validacion cruzada:\n",
      "Metricas cross_validation [0.59726944 0.52880435 0.61681149 0.43839723 0.47487293]\n",
      "Media de cross_validation 0.5312310871911043\n",
      "Metricas sobre la prediccion\n",
      "R^2: 0.6060883414302839\n",
      "MSE: 69.59990332301933\n",
      "RMSE: 8.342655651710631\n"
     ]
    }
   ],
   "source": [
    "from sklearn.model_selection import cross_val_score\n",
    "from sklearn.model_selection import KFold\n",
    "from sklearn.metrics import r2_score, mean_squared_error\n",
    "from math import sqrt\n",
    "kf = KFold(n_splits=5)\n",
    "\n",
    "y_pred = regressor.predict(X_test)\n",
    "\n",
    "scores = cross_val_score(regressor, X_train, y_train, cv=kf, scoring='r2')\n",
    "print(\"Validacion cruzada:\")\n",
    "print(\"Metricas cross_validation\", scores)\n",
    "print(\"Media de cross_validation\", scores.mean())\n",
    "\n",
    "print('Metricas sobre la prediccion')\n",
    "print('R^2:',r2_score(y_test, y_pred))\n",
    "print('MSE:',mean_squared_error(y_test, y_pred))\n",
    "print('RMSE:',sqrt(mean_squared_error(y_test, y_pred)))"
   ]
  },
  {
   "cell_type": "code",
   "execution_count": 13,
   "metadata": {},
   "outputs": [
    {
     "data": {
      "image/png": "[encoded data removed]",
      "text/plain": [
       "<Figure size 432x288 with 1 Axes>"
      ]
     },
     "metadata": {
      "needs_background": "light"
     },
     "output_type": "display_data"
    }
   ],
   "source": [
    "from matplotlib import pyplot as plt\n",
    "plt.scatter(y_pred, y_test - y_pred)\n",
    "plt.xlabel('Prediccion')\n",
    "plt.ylabel('Residuo')\n",
    "plt.title('Armilla - Aeropuerto de Granada')\n",
    "plt.show()"
   ]
  },
  {
   "cell_type": "code",
   "execution_count": 8,
   "metadata": {},
   "outputs": [],
   "source": [
    "from sklearn.preprocessing import StandardScaler\n",
    "sc_X = StandardScaler()\n",
    "X_train_mod = sc_X.fit_transform(X_train)\n",
    "X_test_mod = sc_X.transform(X_test)\n",
    "sc_y = StandardScaler()\n",
    "y_train_mod = sc_y.fit_transform(y_train.reshape(-1, 1))\n",
    "y_test_mod = sc_y.transform(y_test.reshape(-1, 1))"
   ]
  },
  {
   "cell_type": "code",
   "execution_count": 9,
   "metadata": {},
   "outputs": [],
   "source": [
    "def evaluate2(model, test_features, test_labels):\n",
    "    predictions = model.predict(test_features)\n",
    "    predictions = sc_y.inverse_transform(predictions)\n",
    "    errors = abs(predictions - test_labels)\n",
    "    mape = 100 * np.mean(errors / test_labels)\n",
    "    accuracy = 100 - mape\n",
    "    print('Error promedio: ' + str(np.mean(errors)))\n",
    "    print('Precision: ' + str(accuracy))\n",
    "    return accuracy"
   ]
  },
  {
   "cell_type": "code",
   "execution_count": 10,
   "metadata": {},
   "outputs": [
    {
     "name": "stdout",
     "output_type": "stream",
     "text": [
      "Error promedio: 5.950764420421047\n",
      "Precision: 78.42329577697465\n"
     ]
    },
    {
     "name": "stderr",
     "output_type": "stream",
     "text": [
      "C:\\Python\\Anaconda3\\lib\\site-packages\\sklearn\\utils\\validation.py:761: DataConversionWarning: A column-vector y was passed when a 1d array was expected. Please change the shape of y to (n_samples, ), for example using ravel().\n",
      "  y = column_or_1d(y, warn=True)\n"
     ]
    }
   ],
   "source": [
    "regressor_mod = SVR(kernel = \"rbf\") \n",
    "regressor_mod.fit(X_train_mod,y_train_mod)\n",
    "resultado = evaluate2(regressor_mod, X_test_mod, y_test)"
   ]
  },
  {
   "cell_type": "code",
   "execution_count": 11,
   "metadata": {},
   "outputs": [
    {
     "name": "stderr",
     "output_type": "stream",
     "text": [
      "C:\\Python\\Anaconda3\\lib\\site-packages\\sklearn\\utils\\validation.py:761: DataConversionWarning: A column-vector y was passed when a 1d array was expected. Please change the shape of y to (n_samples, ), for example using ravel().\n",
      "  y = column_or_1d(y, warn=True)\n",
      "C:\\Python\\Anaconda3\\lib\\site-packages\\sklearn\\utils\\validation.py:761: DataConversionWarning: A column-vector y was passed when a 1d array was expected. Please change the shape of y to (n_samples, ), for example using ravel().\n",
      "  y = column_or_1d(y, warn=True)\n",
      "C:\\Python\\Anaconda3\\lib\\site-packages\\sklearn\\utils\\validation.py:761: DataConversionWarning: A column-vector y was passed when a 1d array was expected. Please change the shape of y to (n_samples, ), for example using ravel().\n",
      "  y = column_or_1d(y, warn=True)\n",
      "C:\\Python\\Anaconda3\\lib\\site-packages\\sklearn\\utils\\validation.py:761: DataConversionWarning: A column-vector y was passed when a 1d array was expected. Please change the shape of y to (n_samples, ), for example using ravel().\n",
      "  y = column_or_1d(y, warn=True)\n",
      "C:\\Python\\Anaconda3\\lib\\site-packages\\sklearn\\utils\\validation.py:761: DataConversionWarning: A column-vector y was passed when a 1d array was expected. Please change the shape of y to (n_samples, ), for example using ravel().\n",
      "  y = column_or_1d(y, warn=True)\n"
     ]
    },
    {
     "name": "stdout",
     "output_type": "stream",
     "text": [
      "Validacion cruzada:\n",
      "Metricas cross_validation [0.59242335 0.532323   0.60763843 0.44727671 0.47920269]\n",
      "Media de cross_validation 0.5317728372604213\n",
      "Metricas sobre la prediccion\n",
      "R^2: 0.5058926388523193\n",
      "MSE: 87.30339358814463\n",
      "RMSE: 9.343628502254605\n"
     ]
    }
   ],
   "source": [
    "y_pred_mod = regressor_mod.predict(X_test_mod)\n",
    "\n",
    "scores = cross_val_score(regressor, X_train_mod, y_train_mod, cv=kf, scoring='r2')\n",
    "print(\"Validacion cruzada:\")\n",
    "print(\"Metricas cross_validation\", scores)\n",
    "print(\"Media de cross_validation\", scores.mean())\n",
    "\n",
    "print('Metricas sobre la prediccion')\n",
    "print('R^2:',r2_score(sc_y.inverse_transform(y_test_mod), sc_y.inverse_transform(y_pred_mod)))\n",
    "print('MSE:',mean_squared_error(sc_y.inverse_transform(y_test_mod), sc_y.inverse_transform(y_pred_mod)))\n",
    "print('RMSE:',sqrt(mean_squared_error(sc_y.inverse_transform(y_test_mod), sc_y.inverse_transform(y_pred_mod))))"
   ]
  },
  {
   "cell_type": "code",
   "execution_count": 12,
   "metadata": {},
   "outputs": [
    {
     "data": {
      "text/plain": [
       "<matplotlib.collections.PathCollection at 0x18631a382b0>"
      ]
     },
     "execution_count": 12,
     "metadata": {},
     "output_type": "execute_result"
    },
    {
     "data": {
      "image/png": "[encoded data removed]",
      "text/plain": [
       "<Figure size 432x288 with 1 Axes>"
      ]
     },
     "metadata": {
      "needs_background": "light"
     },
     "output_type": "display_data"
    }
   ],
   "source": [
    "from matplotlib import pyplot as plt\n",
    "plt.scatter(y_test, y_pred)"
   ]
  }
 ],
 "metadata": {
  "kernelspec": {
   "display_name": "Python 3",
   "language": "python",
   "name": "python3"
  },
  "language_info": {
   "codemirror_mode": {
    "name": "ipython",
    "version": 3
   },
   "file_extension": ".py",
   "mimetype": "text/x-python",
   "name": "python",
   "nbconvert_exporter": "python",
   "pygments_lexer": "ipython3",
   "version": "3.6.8"
  }
 },
 "nbformat": 4,
 "nbformat_minor": 2
}
